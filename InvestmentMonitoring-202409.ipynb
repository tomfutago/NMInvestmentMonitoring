{
 "cells": [
  {
   "cell_type": "markdown",
   "id": "374372ea",
   "metadata": {},
   "source": [
    "# Imports and Inputs"
   ]
  },
  {
   "cell_type": "code",
   "execution_count": 77,
   "id": "4dc24827",
   "metadata": {
    "ExecuteTime": {
     "end_time": "2024-09-12T08:13:50.562208Z",
     "start_time": "2024-09-12T08:13:49.795258Z"
    }
   },
   "outputs": [],
   "source": [
    "### Imports of relevant python packages and Dune API Key\n",
    "\n",
    "import dotenv\n",
    "import pandas as pd\n",
    "import numpy as np\n",
    "import matplotlib.pyplot as plt\n",
    "# import seaborn as sns\n",
    "from datetime import datetime, timedelta, timezone\n",
    "from dune_client.client import DuneClient\n",
    "from dune_client.query import QueryBase\n",
    "from dune_client.types import QueryParameter\n",
    "\n",
    "# load .env file\n",
    "dotenv.load_dotenv(\".env\")\n",
    "dune = DuneClient.from_env()\n",
    "\n",
    "# pd.set_option('display.max_rows', None)\n",
    "pd.set_option('display.max_columns', None)"
   ]
  },
  {
   "cell_type": "markdown",
   "id": "27ca9291",
   "metadata": {},
   "source": [
    "Links to dune queries to refresh before importing latest result in cell below:\n",
    "\n",
    "[Capital Pool in ETH](https://dune.com/queries/3773645/6345766?display_currency_e15077=ETH)\n",
    "\n",
    "[RAMM Volumes](https://dune.com/queries/3219988/5394288)\n",
    "\n",
    "[Full List Of Covers V2](https://dune.com/queries/3810247)"
   ]
  },
  {
   "cell_type": "code",
   "execution_count": 78,
   "id": "09516829",
   "metadata": {
    "ExecuteTime": {
     "end_time": "2024-09-12T08:15:42.414608Z",
     "start_time": "2024-09-12T08:15:41.621199Z"
    }
   },
   "outputs": [
    {
     "name": "stderr",
     "output_type": "stream",
     "text": [
      "2024-10-03 15:27:10,859 INFO dune_client.api.base executing 3773645 on medium cluster\n",
      "2024-10-03 15:27:11,066 INFO dune_client.api.base waiting for query execution 01J99CE8DECBK802WZWY541ZE7 to complete: ExecutionState.PENDING (queue position: 4)\n",
      "2024-10-03 15:27:12,109 INFO dune_client.api.base waiting for query execution 01J99CE8DECBK802WZWY541ZE7 to complete: ExecutionState.PENDING (queue position: 4)\n",
      "2024-10-03 15:27:13,362 INFO dune_client.api.base executing 3219988 on medium cluster\n",
      "2024-10-03 15:27:13,456 INFO dune_client.api.base waiting for query execution 01J99CEAR5WDVZP3JXG2WS1CPJ to complete: ExecutionState.PENDING (queue position: 4)\n",
      "2024-10-03 15:27:14,566 INFO dune_client.api.base waiting for query execution 01J99CEAR5WDVZP3JXG2WS1CPJ to complete: ExecutionState.EXECUTING\n",
      "2024-10-03 15:27:15,684 INFO dune_client.api.base waiting for query execution 01J99CEAR5WDVZP3JXG2WS1CPJ to complete: ExecutionState.EXECUTING\n",
      "2024-10-03 15:27:16,744 INFO dune_client.api.base waiting for query execution 01J99CEAR5WDVZP3JXG2WS1CPJ to complete: ExecutionState.EXECUTING\n",
      "2024-10-03 15:27:17,792 INFO dune_client.api.base waiting for query execution 01J99CEAR5WDVZP3JXG2WS1CPJ to complete: ExecutionState.EXECUTING\n",
      "2024-10-03 15:27:18,831 INFO dune_client.api.base waiting for query execution 01J99CEAR5WDVZP3JXG2WS1CPJ to complete: ExecutionState.EXECUTING\n",
      "2024-10-03 15:27:19,876 INFO dune_client.api.base waiting for query execution 01J99CEAR5WDVZP3JXG2WS1CPJ to complete: ExecutionState.EXECUTING\n",
      "2024-10-03 15:27:20,924 INFO dune_client.api.base waiting for query execution 01J99CEAR5WDVZP3JXG2WS1CPJ to complete: ExecutionState.EXECUTING\n",
      "2024-10-03 15:27:21,966 INFO dune_client.api.base waiting for query execution 01J99CEAR5WDVZP3JXG2WS1CPJ to complete: ExecutionState.EXECUTING\n",
      "2024-10-03 15:27:23,137 INFO dune_client.api.base waiting for query execution 01J99CEAR5WDVZP3JXG2WS1CPJ to complete: ExecutionState.EXECUTING\n",
      "2024-10-03 15:27:24,181 INFO dune_client.api.base waiting for query execution 01J99CEAR5WDVZP3JXG2WS1CPJ to complete: ExecutionState.EXECUTING\n",
      "2024-10-03 15:27:25,229 INFO dune_client.api.base waiting for query execution 01J99CEAR5WDVZP3JXG2WS1CPJ to complete: ExecutionState.EXECUTING\n",
      "2024-10-03 15:27:26,372 INFO dune_client.api.base waiting for query execution 01J99CEAR5WDVZP3JXG2WS1CPJ to complete: ExecutionState.EXECUTING\n",
      "2024-10-03 15:27:27,414 INFO dune_client.api.base waiting for query execution 01J99CEAR5WDVZP3JXG2WS1CPJ to complete: ExecutionState.EXECUTING\n",
      "2024-10-03 15:27:28,561 INFO dune_client.api.base waiting for query execution 01J99CEAR5WDVZP3JXG2WS1CPJ to complete: ExecutionState.EXECUTING\n",
      "2024-10-03 15:27:29,618 INFO dune_client.api.base waiting for query execution 01J99CEAR5WDVZP3JXG2WS1CPJ to complete: ExecutionState.EXECUTING\n",
      "2024-10-03 15:27:30,665 INFO dune_client.api.base waiting for query execution 01J99CEAR5WDVZP3JXG2WS1CPJ to complete: ExecutionState.EXECUTING\n",
      "2024-10-03 15:27:31,711 INFO dune_client.api.base waiting for query execution 01J99CEAR5WDVZP3JXG2WS1CPJ to complete: ExecutionState.EXECUTING\n",
      "2024-10-03 15:27:32,772 INFO dune_client.api.base waiting for query execution 01J99CEAR5WDVZP3JXG2WS1CPJ to complete: ExecutionState.EXECUTING\n",
      "2024-10-03 15:27:33,821 INFO dune_client.api.base waiting for query execution 01J99CEAR5WDVZP3JXG2WS1CPJ to complete: ExecutionState.EXECUTING\n",
      "2024-10-03 15:27:34,892 INFO dune_client.api.base waiting for query execution 01J99CEAR5WDVZP3JXG2WS1CPJ to complete: ExecutionState.EXECUTING\n",
      "2024-10-03 15:27:35,930 INFO dune_client.api.base waiting for query execution 01J99CEAR5WDVZP3JXG2WS1CPJ to complete: ExecutionState.EXECUTING\n",
      "2024-10-03 15:27:36,975 INFO dune_client.api.base waiting for query execution 01J99CEAR5WDVZP3JXG2WS1CPJ to complete: ExecutionState.EXECUTING\n",
      "2024-10-03 15:27:38,015 INFO dune_client.api.base waiting for query execution 01J99CEAR5WDVZP3JXG2WS1CPJ to complete: ExecutionState.EXECUTING\n",
      "2024-10-03 15:27:39,060 INFO dune_client.api.base waiting for query execution 01J99CEAR5WDVZP3JXG2WS1CPJ to complete: ExecutionState.EXECUTING\n",
      "2024-10-03 15:27:40,238 INFO dune_client.api.base waiting for query execution 01J99CEAR5WDVZP3JXG2WS1CPJ to complete: ExecutionState.EXECUTING\n",
      "2024-10-03 15:27:41,282 INFO dune_client.api.base waiting for query execution 01J99CEAR5WDVZP3JXG2WS1CPJ to complete: ExecutionState.EXECUTING\n",
      "2024-10-03 15:27:42,340 INFO dune_client.api.base waiting for query execution 01J99CEAR5WDVZP3JXG2WS1CPJ to complete: ExecutionState.EXECUTING\n",
      "2024-10-03 15:27:43,383 INFO dune_client.api.base waiting for query execution 01J99CEAR5WDVZP3JXG2WS1CPJ to complete: ExecutionState.EXECUTING\n",
      "2024-10-03 15:27:44,426 INFO dune_client.api.base waiting for query execution 01J99CEAR5WDVZP3JXG2WS1CPJ to complete: ExecutionState.EXECUTING\n",
      "2024-10-03 15:27:45,575 INFO dune_client.api.base waiting for query execution 01J99CEAR5WDVZP3JXG2WS1CPJ to complete: ExecutionState.EXECUTING\n",
      "2024-10-03 15:27:46,626 INFO dune_client.api.base waiting for query execution 01J99CEAR5WDVZP3JXG2WS1CPJ to complete: ExecutionState.EXECUTING\n",
      "2024-10-03 15:27:47,675 INFO dune_client.api.base waiting for query execution 01J99CEAR5WDVZP3JXG2WS1CPJ to complete: ExecutionState.EXECUTING\n",
      "2024-10-03 15:27:48,715 INFO dune_client.api.base waiting for query execution 01J99CEAR5WDVZP3JXG2WS1CPJ to complete: ExecutionState.EXECUTING\n",
      "2024-10-03 15:27:49,758 INFO dune_client.api.base waiting for query execution 01J99CEAR5WDVZP3JXG2WS1CPJ to complete: ExecutionState.EXECUTING\n",
      "2024-10-03 15:27:50,854 INFO dune_client.api.base waiting for query execution 01J99CEAR5WDVZP3JXG2WS1CPJ to complete: ExecutionState.EXECUTING\n",
      "2024-10-03 15:27:51,918 INFO dune_client.api.base waiting for query execution 01J99CEAR5WDVZP3JXG2WS1CPJ to complete: ExecutionState.EXECUTING\n",
      "2024-10-03 15:27:52,963 INFO dune_client.api.base waiting for query execution 01J99CEAR5WDVZP3JXG2WS1CPJ to complete: ExecutionState.EXECUTING\n",
      "2024-10-03 15:27:54,010 INFO dune_client.api.base waiting for query execution 01J99CEAR5WDVZP3JXG2WS1CPJ to complete: ExecutionState.EXECUTING\n",
      "2024-10-03 15:27:55,173 INFO dune_client.api.base waiting for query execution 01J99CEAR5WDVZP3JXG2WS1CPJ to complete: ExecutionState.EXECUTING\n",
      "2024-10-03 15:27:56,224 INFO dune_client.api.base waiting for query execution 01J99CEAR5WDVZP3JXG2WS1CPJ to complete: ExecutionState.EXECUTING\n",
      "2024-10-03 15:27:57,325 INFO dune_client.api.base waiting for query execution 01J99CEAR5WDVZP3JXG2WS1CPJ to complete: ExecutionState.EXECUTING\n",
      "2024-10-03 15:27:58,440 INFO dune_client.api.base waiting for query execution 01J99CEAR5WDVZP3JXG2WS1CPJ to complete: ExecutionState.EXECUTING\n",
      "2024-10-03 15:27:59,480 INFO dune_client.api.base waiting for query execution 01J99CEAR5WDVZP3JXG2WS1CPJ to complete: ExecutionState.EXECUTING\n",
      "2024-10-03 15:28:00,524 INFO dune_client.api.base waiting for query execution 01J99CEAR5WDVZP3JXG2WS1CPJ to complete: ExecutionState.EXECUTING\n",
      "2024-10-03 15:28:01,940 INFO dune_client.api.base executing 3810247 on medium cluster\n",
      "2024-10-03 15:28:02,028 INFO dune_client.api.base waiting for query execution 01J99CFT6489NB2JKS78XKVF9S to complete: ExecutionState.PENDING (queue position: 2)\n",
      "2024-10-03 15:28:03,072 INFO dune_client.api.base waiting for query execution 01J99CFT6489NB2JKS78XKVF9S to complete: ExecutionState.PENDING (queue position: 2)\n",
      "2024-10-03 15:28:04,110 INFO dune_client.api.base waiting for query execution 01J99CFT6489NB2JKS78XKVF9S to complete: ExecutionState.EXECUTING\n",
      "2024-10-03 15:28:05,197 INFO dune_client.api.base waiting for query execution 01J99CFT6489NB2JKS78XKVF9S to complete: ExecutionState.EXECUTING\n",
      "2024-10-03 15:28:06,247 INFO dune_client.api.base waiting for query execution 01J99CFT6489NB2JKS78XKVF9S to complete: ExecutionState.EXECUTING\n",
      "2024-10-03 15:28:07,291 INFO dune_client.api.base waiting for query execution 01J99CFT6489NB2JKS78XKVF9S to complete: ExecutionState.EXECUTING\n",
      "2024-10-03 15:28:08,340 INFO dune_client.api.base waiting for query execution 01J99CFT6489NB2JKS78XKVF9S to complete: ExecutionState.EXECUTING\n",
      "2024-10-03 15:28:09,382 INFO dune_client.api.base waiting for query execution 01J99CFT6489NB2JKS78XKVF9S to complete: ExecutionState.EXECUTING\n"
     ]
    }
   ],
   "source": [
    "# import jsons of capital pool, ramm volume and covers from dune api \n",
    "#cap_pool_result = dune.get_latest_result_dataframe(3773645) # ensure that the ETH values are latest to be run\n",
    "#ramm_volume_result = dune.get_latest_result_dataframe(3219988)\n",
    "#covers_list_result = dune.get_latest_result_dataframe(3810247)\n",
    "\n",
    "\"\"\"  query the query (execute and get latest result) \"\"\"\n",
    "cap_pool_query = QueryBase(\n",
    "    query_id=3773645,\n",
    "    params=[\n",
    "      QueryParameter.text_type(name=\"display_currency\", value=\"ETH\"),\n",
    "    ],\n",
    ")\n",
    "cap_pool_result = dune.run_query_dataframe(query=cap_pool_query)\n",
    "\n",
    "ramm_volume_result = dune.run_query_dataframe(QueryBase(query_id=3219988))\n",
    "covers_list_result = dune.run_query_dataframe(QueryBase(query_id=3810247))"
   ]
  },
  {
   "cell_type": "markdown",
   "id": "7afdf7c6",
   "metadata": {},
   "source": [
    "# Investment Newsletter Data"
   ]
  },
  {
   "cell_type": "markdown",
   "id": "b6bc40a9",
   "metadata": {},
   "source": [
    "The following steps and the reasons for them were taken for the August metrics:\n",
    "1. Update the valuation date string (standard each month)"
   ]
  },
  {
   "cell_type": "code",
   "execution_count": 79,
   "id": "1287d51a",
   "metadata": {
    "ExecuteTime": {
     "end_time": "2024-09-12T13:28:19.536900Z",
     "start_time": "2024-09-12T13:28:19.529237Z"
    }
   },
   "outputs": [],
   "source": [
    "# manually input the valuation date as a string in the format 'dd-mm-yyyy'\n",
    "# the valuation date is the final day of the month for which the results are being produced\n",
    "valn_date_str = '30-09-2024'\n",
    "\n",
    "# average days in month\n",
    "avg_days_in_month = 30.436875\n",
    "\n",
    "# create valuation datetime\n",
    "# valn_date = datetime.strptime(valn_date_str, '%d-%m-%Y').replace(tzinfo=timezone.utc) - timezone UTC if required\n",
    "valn_date = datetime.strptime(valn_date_str, '%d-%m-%Y')\n",
    "\n",
    "# create datetime for the final day in month before valuation month\n",
    "\n",
    "# eom_before_valn_date = datetime(year=valn_date.year, month=valn_date.month, day=1, tzinfo=timezone.utc) - timedelta(days=1) - timezone UTC if required\n",
    "eom_before_valn_date = datetime(year=valn_date.year, month=valn_date.month, day=1) - timedelta(days=1)"
   ]
  },
  {
   "cell_type": "markdown",
   "id": "49eb3223",
   "metadata": {},
   "source": [
    "**Kiln reward calculation**\n",
    "\n",
    "The Kiln rewards are not currently picked up by the Enzyme chainlink oracle and so the metrics are calculated manually in this notebook.\n",
    "\n",
    "Currently the monthly rewards are estimated by inputting the known unclaimed reward amount as at the date of updating the notebook and assuming that the rewards are evenly spread through the days since the last withdrawal.\n",
    "\n",
    "Kiln Rewards - [AB Safe Enzyme App](https://app.safe.global/apps/open?safe=eth:0x51ad1265C8702c9e96Ea61Fe4088C2e22eD4418e&appUrl=https%3A%2F%2Fapp.enzyme.finance)\n",
    "\n",
    "Click Vaults (left sidebar) -> Nexus Mutual Treasury Yield -> 'Portfolio' tab -> Click into Kiln Staking Positions. The relevant value is under 'Total Accrued Rewards'\n",
    "\n",
    "Steps taken to update notebook:\n",
    "\n",
    "2. The Enzyme idle portion was removed as funds were allocated between weETH and the Stakewise/Chorus One position. These are captured by the Chainlink oracle so will be automatically allowed for in the Enzyme vault position.\n",
    "3. The kiln_current_rewards were updated for the Total Accrued Rewards value read from the instructions above.\n",
    "4. The kiln_first_round rewards represent the amount of rewards earned in the Kiln position before the initial withdrawal of staking rewards between 2024-04-24 and 2024-04-26. This amount, and the kiln_claim_start_date and kiln_claim_end_date will remain unchanged.\n",
    "5. The kiln_deposit_date represents the first deposit into Kiln and will be unchanged."
   ]
  },
  {
   "cell_type": "code",
   "execution_count": 80,
   "id": "8496b4d6",
   "metadata": {
    "ExecuteTime": {
     "end_time": "2024-09-12T13:28:22.323686Z",
     "start_time": "2024-09-12T13:28:22.316698Z"
    }
   },
   "outputs": [],
   "source": [
    "# manually input idle Enzyme Portion\n",
    "Enzyme_idle_portion = 0 # 0.6738 WETH?\n",
    "\n",
    "# manually input kiln rewards\n",
    "\n",
    "# fixed amount representing rewards claimed in April '24 and staked afresh in Kiln\n",
    "kiln_first_round = 181.45\n",
    "\n",
    "# TO UPDATE - current rewards pulled in from Enzyme UI\n",
    "kiln_current = 93.8326\n",
    "\n",
    "# FIXED\n",
    "# create datetime object of 2023/08/30 when the Kiln validators were activated \n",
    "# kiln_deposit_date = datetime(year=2023, month=8, day=30, tzinfo=timezone.utc)\n",
    "kiln_deposit_date = datetime(year=2023, month=8, day=30)\n",
    "# create datetime objects of 2024/04/24 and 2024/04/26 when the Kiln rewards were first claimed.\n",
    "    # Note that the values for 2024/04/25 will be inaccurate\n",
    "# kiln_claim_start_date = datetime(year=2024, month=4, day=24, tzinfo=timezone.utc)\n",
    "# kiln_claim_end_date = datetime(year=2024, month=4, day=26, tzinfo=timezone.utc)\n",
    "kiln_claim_start_date = datetime(year=2024, month=4, day=24)\n",
    "kiln_claim_end_date = datetime(year=2024, month=4, day=26)\n",
    "\n",
    "kiln_total_rewards = kiln_first_round + kiln_current"
   ]
  },
  {
   "cell_type": "markdown",
   "id": "a73e96d1",
   "metadata": {},
   "source": [
    "**Aave USDC Debt Repayments**\n",
    "\n",
    "The below cell takes in the manual inputs related to any USDC debt repayments in the month, to allow for accurately working out the interest on the debt.\n",
    "\n",
    "The relevant values can be found by looking at the historic transactions in the [AB Multisig](https://app.safe.global/transactions/history?safe=eth:0x51ad1265C8702c9e96Ea61Fe4088C2e22eD4418e).\n",
    "* If there is one payment in the valuation month, simply update the information below.\n",
    "* If there are no repayments, comment out the section below and update the calculations in section 2.4.\n",
    "* If there is more than one repayment, then an update to the relevant calculations below and in section 2.4. to include additional payments will be required.\n",
    "\n",
    "Steps taken to update notebook:\n",
    "\n",
    "6. Updated the debtUSDC_monthly_repayment as per the relevant August transaction. Note that the USDC amount is used.\n",
    "7. Updated the repayment_date_str to match the day the repayment was made in August '24"
   ]
  },
  {
   "cell_type": "code",
   "execution_count": 81,
   "id": "530eeccc",
   "metadata": {
    "ExecuteTime": {
     "end_time": "2024-09-12T13:28:23.558248Z",
     "start_time": "2024-09-12T13:28:23.552558Z"
    }
   },
   "outputs": [],
   "source": [
    "# manually input debtUSDC repayment size and date of repayment\n",
    "\n",
    "# TO UPDATE from any repayment tx's in month\n",
    "debtUSDC_monthly_repayment = 237_458.569256\n",
    "repayment_date_str = '04-09-2024'\n",
    "\n",
    "# FIXED\n",
    "debtUSDC_repayment_date = datetime.strptime(repayment_date_str, '%d-%m-%Y')"
   ]
  },
  {
   "cell_type": "markdown",
   "id": "c273fcf0",
   "metadata": {},
   "source": [
    "**Staked ETH Sale**\n",
    "\n",
    "In August, for the first time since making the investment, the mutual converted a significant portion of its stETH back to ETH.\n",
    "\n",
    "We used the the relevant transactions that track the amount of stETH moving to and back from the `SwapOperator` contract can be found [here](https://etherscan.io/advanced-filter?fadd=0xcafeabed7e0653afe9674a3ad862b78db3f36e60&tadd=0xcafeabed7e0653afe9674a3ad862b78db3f36e60&tkn=0xae7ab96520de3a18e5e111b5eaab095312d7fe84&ps=50)\n",
    "* Some orders were filled in full, so the entirety of the stETH only went out of the capital pool.\n",
    "* Some orders were partially filled, so amount of stETH out > amount of stETH back in\n",
    "* Some orders weren't filled at all, so amount of stETH out = amount of stETH in.\n",
    "We therefore calculate the amount using a spreadsheet for now but should be able to capture these transactions using Dune Analytics in future.\n",
    "\n",
    "8. Set the `stETH_sale_amount` to the total stETH sold.\n",
    "9. Set the `stETH_sale_date_str` to the (last) dat in which the stETH transactions were made.\n",
    "\n",
    "A harder problem is that the mutual paid trading fees, so didn't quite reach 1-1 stETH->ETH, the typical submitted trade during august was 500 stETH for 499.85 ETH.\n",
    "The total ETH amount should be available by adding up all the ETH transferred to the capital pool in the relevant \"return\" transactions, e.g.  https://etherscan.io/tx/0x2f71669241bfb00b9820cb40ea4d8ca6bb4711b600b6c7eedd025b662dd9591c is a partial transaction that includes the number of ETH actually received.\n",
    "\n",
    "In future occasions where stETH is sold within a month, if we are able to collect the actual amount of ETH obtained by selling the total amount of stETH, we can adjust the stETH return in the month by the trading loss.\n",
    "\n",
    "In months where there is no stETH sold, set `stETH_sold` below to `0`."
   ]
  },
  {
   "cell_type": "code",
   "execution_count": 82,
   "id": "1cdd1cd6",
   "metadata": {
    "ExecuteTime": {
     "end_time": "2024-09-12T13:28:24.583897Z",
     "start_time": "2024-09-12T13:28:24.576378Z"
    }
   },
   "outputs": [],
   "source": [
    "# TO UPDATE for any stETH sale tx's in month with the amount and date of the sale\n",
    "stETH_sale_amount = 0.00 #4392.68\n",
    "stETH_sale_date_str = '21-08-2024'\n",
    "\n",
    "# FIXED\n",
    "stETH_sale_date = datetime.strptime(stETH_sale_date_str, '%d-%m-%Y')"
   ]
  },
  {
   "cell_type": "markdown",
   "id": "1cc75bbb",
   "metadata": {},
   "source": [
    "Commented out the coingecko ETH-USD API as it is not used downstream since updating the Dune queries."
   ]
  },
  {
   "cell_type": "code",
   "execution_count": 83,
   "id": "91054a2f",
   "metadata": {
    "ExecuteTime": {
     "end_time": "2024-09-12T13:28:25.834681Z",
     "start_time": "2024-09-12T13:28:25.829306Z"
    }
   },
   "outputs": [],
   "source": [
    "# # coingecko ETH API for ETH-USD at valuation date\n",
    "# url = 'https://api.coingecko.com/api/v3/coins/ethereum/history'\n",
    "# eth_price_params_valn = {'date': valn_date_str}\n",
    "# eth_usd_valn = requests.get(url, params=eth_price_params_valn).json()['market_data']['current_price']['usd']"
   ]
  },
  {
   "cell_type": "markdown",
   "id": "c05ea3f7",
   "metadata": {},
   "source": [
    "## Processing Capital Pool Table"
   ]
  },
  {
   "cell_type": "code",
   "execution_count": 84,
   "id": "e9b7aed8",
   "metadata": {
    "ExecuteTime": {
     "end_time": "2024-09-12T13:28:27.491525Z",
     "start_time": "2024-09-12T13:28:27.470111Z"
    }
   },
   "outputs": [
    {
     "data": {
      "text/html": [
       "<div>\n",
       "<style scoped>\n",
       "    .dataframe tbody tr th:only-of-type {\n",
       "        vertical-align: middle;\n",
       "    }\n",
       "\n",
       "    .dataframe tbody tr th {\n",
       "        vertical-align: top;\n",
       "    }\n",
       "\n",
       "    .dataframe thead th {\n",
       "        text-align: right;\n",
       "    }\n",
       "</style>\n",
       "<table border=\"1\" class=\"dataframe\">\n",
       "  <thead>\n",
       "    <tr style=\"text-align: right;\">\n",
       "      <th></th>\n",
       "      <th>block_date</th>\n",
       "      <th>avg_eth_usd_price</th>\n",
       "      <th>capital_pool_display_curr</th>\n",
       "      <th>eth_display_curr</th>\n",
       "      <th>dai_display_curr</th>\n",
       "      <th>nxmty_display_curr</th>\n",
       "      <th>steth_display_curr</th>\n",
       "      <th>reth_display_curr</th>\n",
       "      <th>usdc_display_curr</th>\n",
       "      <th>cover_re_usdc_display_curr</th>\n",
       "      <th>aave_collateral_weth_display_curr</th>\n",
       "      <th>aave_debt_usdc_display_curr</th>\n",
       "    </tr>\n",
       "  </thead>\n",
       "  <tbody>\n",
       "    <tr>\n",
       "      <th>0</th>\n",
       "      <td>2024-10-03 00:00:00.000 UTC</td>\n",
       "      <td>2388.567273</td>\n",
       "      <td>81448.197651</td>\n",
       "      <td>10916.029123</td>\n",
       "      <td>195.612637</td>\n",
       "      <td>13380.599094</td>\n",
       "      <td>29569.640992</td>\n",
       "      <td>14955.612587</td>\n",
       "      <td>307.383345</td>\n",
       "      <td>5027.148552</td>\n",
       "      <td>9408.030757</td>\n",
       "      <td>-2311.859436</td>\n",
       "    </tr>\n",
       "    <tr>\n",
       "      <th>1</th>\n",
       "      <td>2024-10-02 00:00:00.000 UTC</td>\n",
       "      <td>2447.091111</td>\n",
       "      <td>81360.586577</td>\n",
       "      <td>10917.977841</td>\n",
       "      <td>190.949631</td>\n",
       "      <td>13380.599094</td>\n",
       "      <td>29569.640992</td>\n",
       "      <td>14942.937464</td>\n",
       "      <td>299.968222</td>\n",
       "      <td>4907.209807</td>\n",
       "      <td>9407.903586</td>\n",
       "      <td>-2256.600060</td>\n",
       "    </tr>\n",
       "    <tr>\n",
       "      <th>2</th>\n",
       "      <td>2024-10-01 00:00:00.000 UTC</td>\n",
       "      <td>2573.934965</td>\n",
       "      <td>81178.833113</td>\n",
       "      <td>10918.009249</td>\n",
       "      <td>181.487309</td>\n",
       "      <td>13380.105142</td>\n",
       "      <td>29567.161405</td>\n",
       "      <td>14919.857844</td>\n",
       "      <td>285.102199</td>\n",
       "      <td>4664.150964</td>\n",
       "      <td>9407.368083</td>\n",
       "      <td>-2144.409083</td>\n",
       "    </tr>\n",
       "    <tr>\n",
       "      <th>3</th>\n",
       "      <td>2024-09-30 00:00:00.000 UTC</td>\n",
       "      <td>2620.624097</td>\n",
       "      <td>81080.082151</td>\n",
       "      <td>10922.415015</td>\n",
       "      <td>178.353138</td>\n",
       "      <td>13379.391518</td>\n",
       "      <td>29564.712804</td>\n",
       "      <td>14916.807384</td>\n",
       "      <td>235.599976</td>\n",
       "      <td>4582.533704</td>\n",
       "      <td>9406.764173</td>\n",
       "      <td>-2106.495561</td>\n",
       "    </tr>\n",
       "    <tr>\n",
       "      <th>4</th>\n",
       "      <td>2024-09-29 00:00:00.000 UTC</td>\n",
       "      <td>2662.651701</td>\n",
       "      <td>81097.418086</td>\n",
       "      <td>10973.228535</td>\n",
       "      <td>175.488672</td>\n",
       "      <td>13378.697029</td>\n",
       "      <td>29562.317108</td>\n",
       "      <td>14933.015691</td>\n",
       "      <td>231.809494</td>\n",
       "      <td>4508.856573</td>\n",
       "      <td>9406.241527</td>\n",
       "      <td>-2072.236543</td>\n",
       "    </tr>\n",
       "    <tr>\n",
       "      <th>...</th>\n",
       "      <td>...</td>\n",
       "      <td>...</td>\n",
       "      <td>...</td>\n",
       "      <td>...</td>\n",
       "      <td>...</td>\n",
       "      <td>...</td>\n",
       "      <td>...</td>\n",
       "      <td>...</td>\n",
       "      <td>...</td>\n",
       "      <td>...</td>\n",
       "      <td>...</td>\n",
       "      <td>...</td>\n",
       "    </tr>\n",
       "    <tr>\n",
       "      <th>1956</th>\n",
       "      <td>2019-05-27 00:00:00.000 UTC</td>\n",
       "      <td>268.692708</td>\n",
       "      <td>23.625751</td>\n",
       "      <td>23.625751</td>\n",
       "      <td>0.000000</td>\n",
       "      <td>0.000000</td>\n",
       "      <td>0.000000</td>\n",
       "      <td>0.000000</td>\n",
       "      <td>0.000000</td>\n",
       "      <td>0.000000</td>\n",
       "      <td>0.000000</td>\n",
       "      <td>-0.000000</td>\n",
       "    </tr>\n",
       "    <tr>\n",
       "      <th>1957</th>\n",
       "      <td>2019-05-26 00:00:00.000 UTC</td>\n",
       "      <td>252.561806</td>\n",
       "      <td>23.629793</td>\n",
       "      <td>23.629793</td>\n",
       "      <td>0.000000</td>\n",
       "      <td>0.000000</td>\n",
       "      <td>0.000000</td>\n",
       "      <td>0.000000</td>\n",
       "      <td>0.000000</td>\n",
       "      <td>0.000000</td>\n",
       "      <td>0.000000</td>\n",
       "      <td>-0.000000</td>\n",
       "    </tr>\n",
       "    <tr>\n",
       "      <th>1958</th>\n",
       "      <td>2019-05-25 00:00:00.000 UTC</td>\n",
       "      <td>251.959896</td>\n",
       "      <td>22.633834</td>\n",
       "      <td>22.633834</td>\n",
       "      <td>0.000000</td>\n",
       "      <td>0.000000</td>\n",
       "      <td>0.000000</td>\n",
       "      <td>0.000000</td>\n",
       "      <td>0.000000</td>\n",
       "      <td>0.000000</td>\n",
       "      <td>0.000000</td>\n",
       "      <td>-0.000000</td>\n",
       "    </tr>\n",
       "    <tr>\n",
       "      <th>1959</th>\n",
       "      <td>2019-05-24 00:00:00.000 UTC</td>\n",
       "      <td>249.477361</td>\n",
       "      <td>21.537876</td>\n",
       "      <td>21.537876</td>\n",
       "      <td>0.000000</td>\n",
       "      <td>0.000000</td>\n",
       "      <td>0.000000</td>\n",
       "      <td>0.000000</td>\n",
       "      <td>0.000000</td>\n",
       "      <td>0.000000</td>\n",
       "      <td>0.000000</td>\n",
       "      <td>-0.000000</td>\n",
       "    </tr>\n",
       "    <tr>\n",
       "      <th>1960</th>\n",
       "      <td>2019-05-23 00:00:00.000 UTC</td>\n",
       "      <td>241.129757</td>\n",
       "      <td>0.095959</td>\n",
       "      <td>0.095959</td>\n",
       "      <td>0.000000</td>\n",
       "      <td>0.000000</td>\n",
       "      <td>0.000000</td>\n",
       "      <td>0.000000</td>\n",
       "      <td>0.000000</td>\n",
       "      <td>0.000000</td>\n",
       "      <td>0.000000</td>\n",
       "      <td>-0.000000</td>\n",
       "    </tr>\n",
       "  </tbody>\n",
       "</table>\n",
       "<p>1961 rows × 12 columns</p>\n",
       "</div>"
      ],
      "text/plain": [
       "                       block_date  avg_eth_usd_price  \\\n",
       "0     2024-10-03 00:00:00.000 UTC        2388.567273   \n",
       "1     2024-10-02 00:00:00.000 UTC        2447.091111   \n",
       "2     2024-10-01 00:00:00.000 UTC        2573.934965   \n",
       "3     2024-09-30 00:00:00.000 UTC        2620.624097   \n",
       "4     2024-09-29 00:00:00.000 UTC        2662.651701   \n",
       "...                           ...                ...   \n",
       "1956  2019-05-27 00:00:00.000 UTC         268.692708   \n",
       "1957  2019-05-26 00:00:00.000 UTC         252.561806   \n",
       "1958  2019-05-25 00:00:00.000 UTC         251.959896   \n",
       "1959  2019-05-24 00:00:00.000 UTC         249.477361   \n",
       "1960  2019-05-23 00:00:00.000 UTC         241.129757   \n",
       "\n",
       "      capital_pool_display_curr  eth_display_curr  dai_display_curr  \\\n",
       "0                  81448.197651      10916.029123        195.612637   \n",
       "1                  81360.586577      10917.977841        190.949631   \n",
       "2                  81178.833113      10918.009249        181.487309   \n",
       "3                  81080.082151      10922.415015        178.353138   \n",
       "4                  81097.418086      10973.228535        175.488672   \n",
       "...                         ...               ...               ...   \n",
       "1956                  23.625751         23.625751          0.000000   \n",
       "1957                  23.629793         23.629793          0.000000   \n",
       "1958                  22.633834         22.633834          0.000000   \n",
       "1959                  21.537876         21.537876          0.000000   \n",
       "1960                   0.095959          0.095959          0.000000   \n",
       "\n",
       "      nxmty_display_curr  steth_display_curr  reth_display_curr  \\\n",
       "0           13380.599094        29569.640992       14955.612587   \n",
       "1           13380.599094        29569.640992       14942.937464   \n",
       "2           13380.105142        29567.161405       14919.857844   \n",
       "3           13379.391518        29564.712804       14916.807384   \n",
       "4           13378.697029        29562.317108       14933.015691   \n",
       "...                  ...                 ...                ...   \n",
       "1956            0.000000            0.000000           0.000000   \n",
       "1957            0.000000            0.000000           0.000000   \n",
       "1958            0.000000            0.000000           0.000000   \n",
       "1959            0.000000            0.000000           0.000000   \n",
       "1960            0.000000            0.000000           0.000000   \n",
       "\n",
       "      usdc_display_curr  cover_re_usdc_display_curr  \\\n",
       "0            307.383345                 5027.148552   \n",
       "1            299.968222                 4907.209807   \n",
       "2            285.102199                 4664.150964   \n",
       "3            235.599976                 4582.533704   \n",
       "4            231.809494                 4508.856573   \n",
       "...                 ...                         ...   \n",
       "1956           0.000000                    0.000000   \n",
       "1957           0.000000                    0.000000   \n",
       "1958           0.000000                    0.000000   \n",
       "1959           0.000000                    0.000000   \n",
       "1960           0.000000                    0.000000   \n",
       "\n",
       "      aave_collateral_weth_display_curr  aave_debt_usdc_display_curr  \n",
       "0                           9408.030757                 -2311.859436  \n",
       "1                           9407.903586                 -2256.600060  \n",
       "2                           9407.368083                 -2144.409083  \n",
       "3                           9406.764173                 -2106.495561  \n",
       "4                           9406.241527                 -2072.236543  \n",
       "...                                 ...                          ...  \n",
       "1956                           0.000000                    -0.000000  \n",
       "1957                           0.000000                    -0.000000  \n",
       "1958                           0.000000                    -0.000000  \n",
       "1959                           0.000000                    -0.000000  \n",
       "1960                           0.000000                    -0.000000  \n",
       "\n",
       "[1961 rows x 12 columns]"
      ]
     },
     "execution_count": 84,
     "metadata": {},
     "output_type": "execute_result"
    }
   ],
   "source": [
    "cap_pool_result"
   ]
  },
  {
   "cell_type": "code",
   "execution_count": 85,
   "id": "21a3ea42",
   "metadata": {
    "ExecuteTime": {
     "end_time": "2024-09-12T13:28:30.690049Z",
     "start_time": "2024-09-12T13:28:30.613793Z"
    }
   },
   "outputs": [
    {
     "name": "stderr",
     "output_type": "stream",
     "text": [
      "/var/folders/nr/x38pd1sn7yq6g73hb2vbfhv00000gn/T/ipykernel_10145/3482859299.py:38: FutureWarning: Setting an item of incompatible dtype is deprecated and will raise an error in a future version of pandas. Value '[  181.45         180.68760504   179.92521008 ... -1187.81134454\n",
      " -1188.5737395  -1189.33613445]' has dtype incompatible with int64, please explicitly cast to a compatible dtype first.\n",
      "  df_cap.loc[df_cap['day'] <= kiln_claim_start_date, 'kiln_rewards'] = daily_first_kiln_rewards * ((df_cap['day'] - kiln_deposit_date) / timedelta(days=1))\n"
     ]
    }
   ],
   "source": [
    "# process capital pool table\n",
    "\n",
    "df_cap_raw = cap_pool_result\n",
    "\n",
    "# drop moving average columns\n",
    "df_cap = df_cap_raw.drop(columns=['capital_pool_display_curr'])\n",
    "# rename columns\n",
    "df_cap.rename(columns={'eth_display_curr': 'ETH',\n",
    "                       'dai_display_curr': 'DAI',\n",
    "                       'reth_display_curr': 'rETH',\n",
    "                       'steth_display_curr': 'stETH',\n",
    "                       'nxmty_display_curr': 'Enzyme',\n",
    "                       'usdc_display_curr': 'USDC',\n",
    "                       'cover_re_usdc_display_curr': 'Cover Re',\n",
    "                       'aave_collateral_weth_display_curr': 'aEthWETH',\n",
    "                       'aave_debt_usdc_display_curr': 'variableDebtEthUSDC',\n",
    "                       'avg_eth_usd_price': 'rate_ETH_USD',\n",
    "                       'block_date': 'day'\n",
    "                  }, inplace=True)\n",
    "\n",
    "\n",
    "# change day to a datetime, and remove timezone\n",
    "df_cap['day'] = pd.to_datetime(df_cap['day']).dt.tz_localize(None)\n",
    "\n",
    "# Adjust Enzyme for unclaimed Kiln returns\n",
    "    # work out days since kiln deposit from the latest day and work out the rewards per day\n",
    "days_first_kiln_rewards = (kiln_claim_start_date - kiln_deposit_date)/timedelta(days=1)\n",
    "daily_first_kiln_rewards = kiln_first_round/days_first_kiln_rewards\n",
    "\n",
    "days_current_kiln_rewards = (df_cap.iloc[0]['day'] - kiln_claim_end_date)/timedelta(days=1)\n",
    "daily_current_kiln_rewards = kiln_current/days_current_kiln_rewards\n",
    "\n",
    "days_total_kiln_rewards = (df_cap.iloc[0]['day'] - kiln_deposit_date)/timedelta(days=1)\n",
    "daily_total_kiln_rewards = kiln_total_rewards / days_total_kiln_rewards\n",
    "\n",
    "    # create a column for kiln rewards based on the daily values since validators went live\n",
    "df_cap['kiln_rewards'] = 0\n",
    "df_cap.loc[df_cap['day'] <= kiln_claim_start_date, 'kiln_rewards'] = daily_first_kiln_rewards * ((df_cap['day'] - kiln_deposit_date) / timedelta(days=1))\n",
    "df_cap.loc[df_cap['day'] >= kiln_claim_end_date, 'kiln_rewards'] = daily_current_kiln_rewards * ((df_cap['day'] - kiln_claim_end_date) / timedelta(days=1))\n",
    "df_cap.loc[df_cap['kiln_rewards'] < 0, 'kiln_rewards'] = 0\n",
    "\n",
    "    # Add Kiln rewards to Enzyme column and then drop the Kiln rewards column\n",
    "df_cap['Enzyme'] = df_cap['Enzyme'] + df_cap['kiln_rewards']\n",
    "df_cap.drop(columns=['kiln_rewards'], inplace=True)\n",
    "\n",
    "# add all the columns except day and the exchange rate together to get numeric total\n",
    "df_cap['sum'] = df_cap.drop(columns=['day', 'rate_ETH_USD']).sum(axis=1)\n",
    "\n",
    "# work out net aave position\n",
    "df_cap['Aave (net)'] = df_cap['aEthWETH'] + df_cap['variableDebtEthUSDC']"
   ]
  },
  {
   "cell_type": "code",
   "execution_count": 86,
   "id": "201aae9f",
   "metadata": {
    "ExecuteTime": {
     "end_time": "2024-09-12T13:28:33.695515Z",
     "start_time": "2024-09-12T13:28:33.663979Z"
    }
   },
   "outputs": [
    {
     "data": {
      "text/html": [
       "<div>\n",
       "<style scoped>\n",
       "    .dataframe tbody tr th:only-of-type {\n",
       "        vertical-align: middle;\n",
       "    }\n",
       "\n",
       "    .dataframe tbody tr th {\n",
       "        vertical-align: top;\n",
       "    }\n",
       "\n",
       "    .dataframe thead th {\n",
       "        text-align: right;\n",
       "    }\n",
       "</style>\n",
       "<table border=\"1\" class=\"dataframe\">\n",
       "  <thead>\n",
       "    <tr style=\"text-align: right;\">\n",
       "      <th></th>\n",
       "      <th>day</th>\n",
       "      <th>rate_ETH_USD</th>\n",
       "      <th>ETH</th>\n",
       "      <th>DAI</th>\n",
       "      <th>Enzyme</th>\n",
       "      <th>stETH</th>\n",
       "      <th>rETH</th>\n",
       "      <th>USDC</th>\n",
       "      <th>Cover Re</th>\n",
       "      <th>aEthWETH</th>\n",
       "      <th>variableDebtEthUSDC</th>\n",
       "      <th>sum</th>\n",
       "      <th>Aave (net)</th>\n",
       "    </tr>\n",
       "  </thead>\n",
       "  <tbody>\n",
       "    <tr>\n",
       "      <th>3</th>\n",
       "      <td>2024-09-30</td>\n",
       "      <td>2620.624097</td>\n",
       "      <td>10922.415015</td>\n",
       "      <td>178.353138</td>\n",
       "      <td>13471.464757</td>\n",
       "      <td>29564.712804</td>\n",
       "      <td>14916.807384</td>\n",
       "      <td>235.599976</td>\n",
       "      <td>4582.533704</td>\n",
       "      <td>9406.764173</td>\n",
       "      <td>-2106.495561</td>\n",
       "      <td>81172.155390</td>\n",
       "      <td>7300.268612</td>\n",
       "    </tr>\n",
       "    <tr>\n",
       "      <th>4</th>\n",
       "      <td>2024-09-29</td>\n",
       "      <td>2662.651701</td>\n",
       "      <td>10973.228535</td>\n",
       "      <td>175.488672</td>\n",
       "      <td>13470.183814</td>\n",
       "      <td>29562.317108</td>\n",
       "      <td>14933.015691</td>\n",
       "      <td>231.809494</td>\n",
       "      <td>4508.856573</td>\n",
       "      <td>9406.241527</td>\n",
       "      <td>-2072.236543</td>\n",
       "      <td>81188.904871</td>\n",
       "      <td>7334.004985</td>\n",
       "    </tr>\n",
       "    <tr>\n",
       "      <th>5</th>\n",
       "      <td>2024-09-28</td>\n",
       "      <td>2679.836771</td>\n",
       "      <td>11021.608228</td>\n",
       "      <td>174.411742</td>\n",
       "      <td>13469.644856</td>\n",
       "      <td>29559.988001</td>\n",
       "      <td>14931.717206</td>\n",
       "      <td>230.334208</td>\n",
       "      <td>4480.161226</td>\n",
       "      <td>9405.729047</td>\n",
       "      <td>-2058.742279</td>\n",
       "      <td>81214.852235</td>\n",
       "      <td>7346.986767</td>\n",
       "    </tr>\n",
       "    <tr>\n",
       "      <th>6</th>\n",
       "      <td>2024-09-27</td>\n",
       "      <td>2668.524618</td>\n",
       "      <td>11098.831176</td>\n",
       "      <td>175.077189</td>\n",
       "      <td>13468.733345</td>\n",
       "      <td>29557.585438</td>\n",
       "      <td>14926.041487</td>\n",
       "      <td>231.057681</td>\n",
       "      <td>4497.927635</td>\n",
       "      <td>9405.203846</td>\n",
       "      <td>-2066.597233</td>\n",
       "      <td>81293.860564</td>\n",
       "      <td>7338.606613</td>\n",
       "    </tr>\n",
       "    <tr>\n",
       "      <th>7</th>\n",
       "      <td>2024-09-26</td>\n",
       "      <td>2623.347882</td>\n",
       "      <td>11170.407640</td>\n",
       "      <td>178.075335</td>\n",
       "      <td>13467.344585</td>\n",
       "      <td>29554.969284</td>\n",
       "      <td>14922.276634</td>\n",
       "      <td>234.969560</td>\n",
       "      <td>4575.297545</td>\n",
       "      <td>9404.681767</td>\n",
       "      <td>-2101.820045</td>\n",
       "      <td>81406.202304</td>\n",
       "      <td>7302.861722</td>\n",
       "    </tr>\n",
       "    <tr>\n",
       "      <th>8</th>\n",
       "      <td>2024-09-25</td>\n",
       "      <td>2614.323437</td>\n",
       "      <td>11233.896262</td>\n",
       "      <td>178.744305</td>\n",
       "      <td>13466.676476</td>\n",
       "      <td>29552.440815</td>\n",
       "      <td>14930.651608</td>\n",
       "      <td>235.435493</td>\n",
       "      <td>4590.759807</td>\n",
       "      <td>9404.157656</td>\n",
       "      <td>-2108.611798</td>\n",
       "      <td>81484.150624</td>\n",
       "      <td>7295.545858</td>\n",
       "    </tr>\n",
       "    <tr>\n",
       "      <th>9</th>\n",
       "      <td>2024-09-24</td>\n",
       "      <td>2637.893611</td>\n",
       "      <td>11292.744745</td>\n",
       "      <td>163.592966</td>\n",
       "      <td>13465.052116</td>\n",
       "      <td>29549.875061</td>\n",
       "      <td>14931.232212</td>\n",
       "      <td>232.312168</td>\n",
       "      <td>4549.987248</td>\n",
       "      <td>9403.663563</td>\n",
       "      <td>-2089.582075</td>\n",
       "      <td>81498.878004</td>\n",
       "      <td>7314.081488</td>\n",
       "    </tr>\n",
       "    <tr>\n",
       "      <th>10</th>\n",
       "      <td>2024-09-23</td>\n",
       "      <td>2651.382083</td>\n",
       "      <td>11344.136479</td>\n",
       "      <td>162.750139</td>\n",
       "      <td>13463.114714</td>\n",
       "      <td>29547.278278</td>\n",
       "      <td>14918.482526</td>\n",
       "      <td>231.022130</td>\n",
       "      <td>4526.171005</td>\n",
       "      <td>9403.159867</td>\n",
       "      <td>-2078.340337</td>\n",
       "      <td>81517.774799</td>\n",
       "      <td>7324.819530</td>\n",
       "    </tr>\n",
       "    <tr>\n",
       "      <th>11</th>\n",
       "      <td>2024-09-22</td>\n",
       "      <td>2584.831597</td>\n",
       "      <td>11364.204009</td>\n",
       "      <td>166.950951</td>\n",
       "      <td>13463.513674</td>\n",
       "      <td>29544.697385</td>\n",
       "      <td>14901.538957</td>\n",
       "      <td>230.494923</td>\n",
       "      <td>4644.941575</td>\n",
       "      <td>9402.671557</td>\n",
       "      <td>-2132.573660</td>\n",
       "      <td>81586.439372</td>\n",
       "      <td>7270.097898</td>\n",
       "    </tr>\n",
       "    <tr>\n",
       "      <th>12</th>\n",
       "      <td>2024-09-21</td>\n",
       "      <td>2559.387465</td>\n",
       "      <td>11383.869240</td>\n",
       "      <td>168.570092</td>\n",
       "      <td>13461.007268</td>\n",
       "      <td>29542.130420</td>\n",
       "      <td>14926.399084</td>\n",
       "      <td>232.734116</td>\n",
       "      <td>4690.065867</td>\n",
       "      <td>9402.190700</td>\n",
       "      <td>-2152.978626</td>\n",
       "      <td>81653.988160</td>\n",
       "      <td>7249.212073</td>\n",
       "    </tr>\n",
       "    <tr>\n",
       "      <th>13</th>\n",
       "      <td>2024-09-20</td>\n",
       "      <td>2531.660903</td>\n",
       "      <td>11391.238845</td>\n",
       "      <td>170.411768</td>\n",
       "      <td>13460.575723</td>\n",
       "      <td>29539.459358</td>\n",
       "      <td>14926.627416</td>\n",
       "      <td>235.057834</td>\n",
       "      <td>4740.122658</td>\n",
       "      <td>9401.712561</td>\n",
       "      <td>-2175.643307</td>\n",
       "      <td>81689.562855</td>\n",
       "      <td>7226.069254</td>\n",
       "    </tr>\n",
       "    <tr>\n",
       "      <th>14</th>\n",
       "      <td>2024-09-19</td>\n",
       "      <td>2435.393924</td>\n",
       "      <td>11397.047304</td>\n",
       "      <td>177.137020</td>\n",
       "      <td>13459.152396</td>\n",
       "      <td>29536.808224</td>\n",
       "      <td>14921.261358</td>\n",
       "      <td>244.234487</td>\n",
       "      <td>4927.320761</td>\n",
       "      <td>9401.227989</td>\n",
       "      <td>-2261.245341</td>\n",
       "      <td>81802.944199</td>\n",
       "      <td>7139.982648</td>\n",
       "    </tr>\n",
       "    <tr>\n",
       "      <th>15</th>\n",
       "      <td>2024-09-18</td>\n",
       "      <td>2320.972361</td>\n",
       "      <td>11398.021093</td>\n",
       "      <td>185.815757</td>\n",
       "      <td>13459.674400</td>\n",
       "      <td>29534.170899</td>\n",
       "      <td>14932.774893</td>\n",
       "      <td>255.944040</td>\n",
       "      <td>5171.886143</td>\n",
       "      <td>9400.708867</td>\n",
       "      <td>-2373.161790</td>\n",
       "      <td>81965.834302</td>\n",
       "      <td>7027.547077</td>\n",
       "    </tr>\n",
       "    <tr>\n",
       "      <th>16</th>\n",
       "      <td>2024-09-17</td>\n",
       "      <td>2323.698889</td>\n",
       "      <td>11403.432830</td>\n",
       "      <td>185.600324</td>\n",
       "      <td>13456.929203</td>\n",
       "      <td>29531.653816</td>\n",
       "      <td>14924.146601</td>\n",
       "      <td>255.487617</td>\n",
       "      <td>5165.779338</td>\n",
       "      <td>9400.161527</td>\n",
       "      <td>-2370.041605</td>\n",
       "      <td>81953.149652</td>\n",
       "      <td>7030.119922</td>\n",
       "    </tr>\n",
       "    <tr>\n",
       "      <th>17</th>\n",
       "      <td>2024-09-16</td>\n",
       "      <td>2293.302292</td>\n",
       "      <td>11408.951551</td>\n",
       "      <td>188.108874</td>\n",
       "      <td>13456.380653</td>\n",
       "      <td>29529.277434</td>\n",
       "      <td>14929.660096</td>\n",
       "      <td>258.786411</td>\n",
       "      <td>5235.371155</td>\n",
       "      <td>9399.626985</td>\n",
       "      <td>-2401.648035</td>\n",
       "      <td>82004.515123</td>\n",
       "      <td>6997.978951</td>\n",
       "    </tr>\n",
       "    <tr>\n",
       "      <th>18</th>\n",
       "      <td>2024-09-15</td>\n",
       "      <td>2401.425972</td>\n",
       "      <td>11420.192548</td>\n",
       "      <td>179.626543</td>\n",
       "      <td>13456.648478</td>\n",
       "      <td>29526.726664</td>\n",
       "      <td>14925.912575</td>\n",
       "      <td>246.691696</td>\n",
       "      <td>4998.568513</td>\n",
       "      <td>9399.107144</td>\n",
       "      <td>-2292.714196</td>\n",
       "      <td>81860.759963</td>\n",
       "      <td>7106.392947</td>\n",
       "    </tr>\n",
       "    <tr>\n",
       "      <th>19</th>\n",
       "      <td>2024-09-14</td>\n",
       "      <td>2420.750174</td>\n",
       "      <td>11452.907858</td>\n",
       "      <td>178.140500</td>\n",
       "      <td>13455.456563</td>\n",
       "      <td>29524.454367</td>\n",
       "      <td>14927.279607</td>\n",
       "      <td>243.595084</td>\n",
       "      <td>4957.674487</td>\n",
       "      <td>9398.618264</td>\n",
       "      <td>-2273.651076</td>\n",
       "      <td>81864.475655</td>\n",
       "      <td>7124.967189</td>\n",
       "    </tr>\n",
       "    <tr>\n",
       "      <th>20</th>\n",
       "      <td>2024-09-13</td>\n",
       "      <td>2380.572292</td>\n",
       "      <td>11514.412641</td>\n",
       "      <td>181.170618</td>\n",
       "      <td>13453.526312</td>\n",
       "      <td>29522.143060</td>\n",
       "      <td>14922.727613</td>\n",
       "      <td>247.140658</td>\n",
       "      <td>5042.294277</td>\n",
       "      <td>9398.131444</td>\n",
       "      <td>-2312.146575</td>\n",
       "      <td>81969.400050</td>\n",
       "      <td>7085.984869</td>\n",
       "    </tr>\n",
       "    <tr>\n",
       "      <th>21</th>\n",
       "      <td>2024-09-12</td>\n",
       "      <td>2354.227257</td>\n",
       "      <td>11517.091835</td>\n",
       "      <td>182.095729</td>\n",
       "      <td>13453.662255</td>\n",
       "      <td>29519.818946</td>\n",
       "      <td>14932.107616</td>\n",
       "      <td>249.861658</td>\n",
       "      <td>5098.112363</td>\n",
       "      <td>9397.658175</td>\n",
       "      <td>-2337.434776</td>\n",
       "      <td>82012.973801</td>\n",
       "      <td>7060.223399</td>\n",
       "    </tr>\n",
       "    <tr>\n",
       "      <th>22</th>\n",
       "      <td>2024-09-11</td>\n",
       "      <td>2338.943889</td>\n",
       "      <td>11527.131613</td>\n",
       "      <td>183.282688</td>\n",
       "      <td>13452.354147</td>\n",
       "      <td>29517.477959</td>\n",
       "      <td>14938.447536</td>\n",
       "      <td>251.547636</td>\n",
       "      <td>5132.512608</td>\n",
       "      <td>9397.182785</td>\n",
       "      <td>-2352.901364</td>\n",
       "      <td>82047.035607</td>\n",
       "      <td>7044.281421</td>\n",
       "    </tr>\n",
       "    <tr>\n",
       "      <th>23</th>\n",
       "      <td>2024-09-10</td>\n",
       "      <td>2354.839965</td>\n",
       "      <td>11577.291174</td>\n",
       "      <td>182.017235</td>\n",
       "      <td>13451.261572</td>\n",
       "      <td>29515.039744</td>\n",
       "      <td>14961.973307</td>\n",
       "      <td>248.774177</td>\n",
       "      <td>5097.019069</td>\n",
       "      <td>9396.701817</td>\n",
       "      <td>-2336.330855</td>\n",
       "      <td>82093.747239</td>\n",
       "      <td>7060.370962</td>\n",
       "    </tr>\n",
       "    <tr>\n",
       "      <th>24</th>\n",
       "      <td>2024-09-09</td>\n",
       "      <td>2320.898229</td>\n",
       "      <td>11584.228755</td>\n",
       "      <td>184.664270</td>\n",
       "      <td>13450.021247</td>\n",
       "      <td>29512.597382</td>\n",
       "      <td>14969.782423</td>\n",
       "      <td>252.467590</td>\n",
       "      <td>5172.691697</td>\n",
       "      <td>9396.216758</td>\n",
       "      <td>-2370.665812</td>\n",
       "      <td>82152.004311</td>\n",
       "      <td>7025.550947</td>\n",
       "    </tr>\n",
       "    <tr>\n",
       "      <th>25</th>\n",
       "      <td>2024-09-08</td>\n",
       "      <td>2286.070556</td>\n",
       "      <td>11600.516305</td>\n",
       "      <td>187.541130</td>\n",
       "      <td>13448.979180</td>\n",
       "      <td>29510.250480</td>\n",
       "      <td>14974.843481</td>\n",
       "      <td>256.438476</td>\n",
       "      <td>5254.306316</td>\n",
       "      <td>9395.723233</td>\n",
       "      <td>-2407.713410</td>\n",
       "      <td>82220.885191</td>\n",
       "      <td>6988.009823</td>\n",
       "    </tr>\n",
       "    <tr>\n",
       "      <th>26</th>\n",
       "      <td>2024-09-07</td>\n",
       "      <td>2273.962639</td>\n",
       "      <td>11625.058816</td>\n",
       "      <td>188.638464</td>\n",
       "      <td>13447.842778</td>\n",
       "      <td>29508.023991</td>\n",
       "      <td>15007.168284</td>\n",
       "      <td>257.660388</td>\n",
       "      <td>5280.930468</td>\n",
       "      <td>9395.221779</td>\n",
       "      <td>-2419.552319</td>\n",
       "      <td>82290.992648</td>\n",
       "      <td>6975.669459</td>\n",
       "    </tr>\n",
       "    <tr>\n",
       "      <th>27</th>\n",
       "      <td>2024-09-06</td>\n",
       "      <td>2323.583681</td>\n",
       "      <td>11629.880078</td>\n",
       "      <td>184.496013</td>\n",
       "      <td>13446.329709</td>\n",
       "      <td>29504.838694</td>\n",
       "      <td>15004.660879</td>\n",
       "      <td>251.916852</td>\n",
       "      <td>5167.801240</td>\n",
       "      <td>9394.710189</td>\n",
       "      <td>-2367.373956</td>\n",
       "      <td>82217.259698</td>\n",
       "      <td>7027.336232</td>\n",
       "    </tr>\n",
       "    <tr>\n",
       "      <th>28</th>\n",
       "      <td>2024-09-05</td>\n",
       "      <td>2399.656979</td>\n",
       "      <td>11678.362008</td>\n",
       "      <td>173.291904</td>\n",
       "      <td>13445.150120</td>\n",
       "      <td>29502.457307</td>\n",
       "      <td>14992.576688</td>\n",
       "      <td>243.851341</td>\n",
       "      <td>5003.304630</td>\n",
       "      <td>9394.189151</td>\n",
       "      <td>-2291.674064</td>\n",
       "      <td>82141.509086</td>\n",
       "      <td>7102.515087</td>\n",
       "    </tr>\n",
       "    <tr>\n",
       "      <th>29</th>\n",
       "      <td>2024-09-04</td>\n",
       "      <td>2415.985104</td>\n",
       "      <td>11678.362008</td>\n",
       "      <td>172.123263</td>\n",
       "      <td>13444.191337</td>\n",
       "      <td>29500.018476</td>\n",
       "      <td>14962.202929</td>\n",
       "      <td>242.199833</td>\n",
       "      <td>4969.684631</td>\n",
       "      <td>9393.682600</td>\n",
       "      <td>-2275.926834</td>\n",
       "      <td>82086.538243</td>\n",
       "      <td>7117.755766</td>\n",
       "    </tr>\n",
       "    <tr>\n",
       "      <th>30</th>\n",
       "      <td>2024-09-03</td>\n",
       "      <td>2491.719583</td>\n",
       "      <td>11701.274920</td>\n",
       "      <td>262.191011</td>\n",
       "      <td>13443.746956</td>\n",
       "      <td>29497.670923</td>\n",
       "      <td>14974.050741</td>\n",
       "      <td>234.833710</td>\n",
       "      <td>4818.539640</td>\n",
       "      <td>9393.195199</td>\n",
       "      <td>-2301.713136</td>\n",
       "      <td>82023.789964</td>\n",
       "      <td>7091.482064</td>\n",
       "    </tr>\n",
       "    <tr>\n",
       "      <th>31</th>\n",
       "      <td>2024-09-02</td>\n",
       "      <td>2494.741771</td>\n",
       "      <td>11706.219469</td>\n",
       "      <td>262.001702</td>\n",
       "      <td>13442.181650</td>\n",
       "      <td>29495.270418</td>\n",
       "      <td>14986.574088</td>\n",
       "      <td>234.438728</td>\n",
       "      <td>4814.106537</td>\n",
       "      <td>9392.717964</td>\n",
       "      <td>-2299.244112</td>\n",
       "      <td>82034.266444</td>\n",
       "      <td>7093.473851</td>\n",
       "    </tr>\n",
       "    <tr>\n",
       "      <th>32</th>\n",
       "      <td>2024-09-01</td>\n",
       "      <td>2482.008368</td>\n",
       "      <td>11724.323103</td>\n",
       "      <td>263.448637</td>\n",
       "      <td>13441.157107</td>\n",
       "      <td>29493.048885</td>\n",
       "      <td>14965.420194</td>\n",
       "      <td>235.833006</td>\n",
       "      <td>4842.737500</td>\n",
       "      <td>9392.242677</td>\n",
       "      <td>-2312.567039</td>\n",
       "      <td>82045.644070</td>\n",
       "      <td>7079.675637</td>\n",
       "    </tr>\n",
       "    <tr>\n",
       "      <th>33</th>\n",
       "      <td>2024-08-31</td>\n",
       "      <td>2521.198160</td>\n",
       "      <td>11722.986239</td>\n",
       "      <td>259.246891</td>\n",
       "      <td>13439.895418</td>\n",
       "      <td>29490.889097</td>\n",
       "      <td>14933.306760</td>\n",
       "      <td>187.530921</td>\n",
       "      <td>4764.110252</td>\n",
       "      <td>9391.764920</td>\n",
       "      <td>-2274.660684</td>\n",
       "      <td>81915.069814</td>\n",
       "      <td>7117.104236</td>\n",
       "    </tr>\n",
       "  </tbody>\n",
       "</table>\n",
       "</div>"
      ],
      "text/plain": [
       "          day  rate_ETH_USD           ETH         DAI        Enzyme  \\\n",
       "3  2024-09-30   2620.624097  10922.415015  178.353138  13471.464757   \n",
       "4  2024-09-29   2662.651701  10973.228535  175.488672  13470.183814   \n",
       "5  2024-09-28   2679.836771  11021.608228  174.411742  13469.644856   \n",
       "6  2024-09-27   2668.524618  11098.831176  175.077189  13468.733345   \n",
       "7  2024-09-26   2623.347882  11170.407640  178.075335  13467.344585   \n",
       "8  2024-09-25   2614.323437  11233.896262  178.744305  13466.676476   \n",
       "9  2024-09-24   2637.893611  11292.744745  163.592966  13465.052116   \n",
       "10 2024-09-23   2651.382083  11344.136479  162.750139  13463.114714   \n",
       "11 2024-09-22   2584.831597  11364.204009  166.950951  13463.513674   \n",
       "12 2024-09-21   2559.387465  11383.869240  168.570092  13461.007268   \n",
       "13 2024-09-20   2531.660903  11391.238845  170.411768  13460.575723   \n",
       "14 2024-09-19   2435.393924  11397.047304  177.137020  13459.152396   \n",
       "15 2024-09-18   2320.972361  11398.021093  185.815757  13459.674400   \n",
       "16 2024-09-17   2323.698889  11403.432830  185.600324  13456.929203   \n",
       "17 2024-09-16   2293.302292  11408.951551  188.108874  13456.380653   \n",
       "18 2024-09-15   2401.425972  11420.192548  179.626543  13456.648478   \n",
       "19 2024-09-14   2420.750174  11452.907858  178.140500  13455.456563   \n",
       "20 2024-09-13   2380.572292  11514.412641  181.170618  13453.526312   \n",
       "21 2024-09-12   2354.227257  11517.091835  182.095729  13453.662255   \n",
       "22 2024-09-11   2338.943889  11527.131613  183.282688  13452.354147   \n",
       "23 2024-09-10   2354.839965  11577.291174  182.017235  13451.261572   \n",
       "24 2024-09-09   2320.898229  11584.228755  184.664270  13450.021247   \n",
       "25 2024-09-08   2286.070556  11600.516305  187.541130  13448.979180   \n",
       "26 2024-09-07   2273.962639  11625.058816  188.638464  13447.842778   \n",
       "27 2024-09-06   2323.583681  11629.880078  184.496013  13446.329709   \n",
       "28 2024-09-05   2399.656979  11678.362008  173.291904  13445.150120   \n",
       "29 2024-09-04   2415.985104  11678.362008  172.123263  13444.191337   \n",
       "30 2024-09-03   2491.719583  11701.274920  262.191011  13443.746956   \n",
       "31 2024-09-02   2494.741771  11706.219469  262.001702  13442.181650   \n",
       "32 2024-09-01   2482.008368  11724.323103  263.448637  13441.157107   \n",
       "33 2024-08-31   2521.198160  11722.986239  259.246891  13439.895418   \n",
       "\n",
       "           stETH          rETH        USDC     Cover Re     aEthWETH  \\\n",
       "3   29564.712804  14916.807384  235.599976  4582.533704  9406.764173   \n",
       "4   29562.317108  14933.015691  231.809494  4508.856573  9406.241527   \n",
       "5   29559.988001  14931.717206  230.334208  4480.161226  9405.729047   \n",
       "6   29557.585438  14926.041487  231.057681  4497.927635  9405.203846   \n",
       "7   29554.969284  14922.276634  234.969560  4575.297545  9404.681767   \n",
       "8   29552.440815  14930.651608  235.435493  4590.759807  9404.157656   \n",
       "9   29549.875061  14931.232212  232.312168  4549.987248  9403.663563   \n",
       "10  29547.278278  14918.482526  231.022130  4526.171005  9403.159867   \n",
       "11  29544.697385  14901.538957  230.494923  4644.941575  9402.671557   \n",
       "12  29542.130420  14926.399084  232.734116  4690.065867  9402.190700   \n",
       "13  29539.459358  14926.627416  235.057834  4740.122658  9401.712561   \n",
       "14  29536.808224  14921.261358  244.234487  4927.320761  9401.227989   \n",
       "15  29534.170899  14932.774893  255.944040  5171.886143  9400.708867   \n",
       "16  29531.653816  14924.146601  255.487617  5165.779338  9400.161527   \n",
       "17  29529.277434  14929.660096  258.786411  5235.371155  9399.626985   \n",
       "18  29526.726664  14925.912575  246.691696  4998.568513  9399.107144   \n",
       "19  29524.454367  14927.279607  243.595084  4957.674487  9398.618264   \n",
       "20  29522.143060  14922.727613  247.140658  5042.294277  9398.131444   \n",
       "21  29519.818946  14932.107616  249.861658  5098.112363  9397.658175   \n",
       "22  29517.477959  14938.447536  251.547636  5132.512608  9397.182785   \n",
       "23  29515.039744  14961.973307  248.774177  5097.019069  9396.701817   \n",
       "24  29512.597382  14969.782423  252.467590  5172.691697  9396.216758   \n",
       "25  29510.250480  14974.843481  256.438476  5254.306316  9395.723233   \n",
       "26  29508.023991  15007.168284  257.660388  5280.930468  9395.221779   \n",
       "27  29504.838694  15004.660879  251.916852  5167.801240  9394.710189   \n",
       "28  29502.457307  14992.576688  243.851341  5003.304630  9394.189151   \n",
       "29  29500.018476  14962.202929  242.199833  4969.684631  9393.682600   \n",
       "30  29497.670923  14974.050741  234.833710  4818.539640  9393.195199   \n",
       "31  29495.270418  14986.574088  234.438728  4814.106537  9392.717964   \n",
       "32  29493.048885  14965.420194  235.833006  4842.737500  9392.242677   \n",
       "33  29490.889097  14933.306760  187.530921  4764.110252  9391.764920   \n",
       "\n",
       "    variableDebtEthUSDC           sum   Aave (net)  \n",
       "3          -2106.495561  81172.155390  7300.268612  \n",
       "4          -2072.236543  81188.904871  7334.004985  \n",
       "5          -2058.742279  81214.852235  7346.986767  \n",
       "6          -2066.597233  81293.860564  7338.606613  \n",
       "7          -2101.820045  81406.202304  7302.861722  \n",
       "8          -2108.611798  81484.150624  7295.545858  \n",
       "9          -2089.582075  81498.878004  7314.081488  \n",
       "10         -2078.340337  81517.774799  7324.819530  \n",
       "11         -2132.573660  81586.439372  7270.097898  \n",
       "12         -2152.978626  81653.988160  7249.212073  \n",
       "13         -2175.643307  81689.562855  7226.069254  \n",
       "14         -2261.245341  81802.944199  7139.982648  \n",
       "15         -2373.161790  81965.834302  7027.547077  \n",
       "16         -2370.041605  81953.149652  7030.119922  \n",
       "17         -2401.648035  82004.515123  6997.978951  \n",
       "18         -2292.714196  81860.759963  7106.392947  \n",
       "19         -2273.651076  81864.475655  7124.967189  \n",
       "20         -2312.146575  81969.400050  7085.984869  \n",
       "21         -2337.434776  82012.973801  7060.223399  \n",
       "22         -2352.901364  82047.035607  7044.281421  \n",
       "23         -2336.330855  82093.747239  7060.370962  \n",
       "24         -2370.665812  82152.004311  7025.550947  \n",
       "25         -2407.713410  82220.885191  6988.009823  \n",
       "26         -2419.552319  82290.992648  6975.669459  \n",
       "27         -2367.373956  82217.259698  7027.336232  \n",
       "28         -2291.674064  82141.509086  7102.515087  \n",
       "29         -2275.926834  82086.538243  7117.755766  \n",
       "30         -2301.713136  82023.789964  7091.482064  \n",
       "31         -2299.244112  82034.266444  7093.473851  \n",
       "32         -2312.567039  82045.644070  7079.675637  \n",
       "33         -2274.660684  81915.069814  7117.104236  "
      ]
     },
     "execution_count": 86,
     "metadata": {},
     "output_type": "execute_result"
    }
   ],
   "source": [
    "df_cap.loc[(df_cap['day'] <= valn_date) & (df_cap['day'] >= eom_before_valn_date)]"
   ]
  },
  {
   "cell_type": "markdown",
   "id": "b95f519c",
   "metadata": {},
   "source": [
    "## Pie Chart of Assets at Valuation Date"
   ]
  },
  {
   "cell_type": "code",
   "execution_count": 87,
   "id": "ff85e094",
   "metadata": {
    "ExecuteTime": {
     "end_time": "2024-09-12T13:28:47.640055Z",
     "start_time": "2024-09-12T13:28:47.474128Z"
    }
   },
   "outputs": [
    {
     "data": {
      "image/png": "[encoded data removed]",
      "text/plain": [
       "<Figure size 640x480 with 1 Axes>"
      ]
     },
     "metadata": {},
     "output_type": "display_data"
    }
   ],
   "source": [
    "# pie chart of assets\n",
    "asset_list = ['ETH', 'DAI', 'stETH', 'rETH', 'Enzyme', 'Cover Re', 'Aave (net)', 'USDC']\n",
    "valn_date_row = df_cap.loc[df_cap['day'] == valn_date][asset_list]\n",
    "\n",
    "# add formatted ETH values to labels\n",
    "labels = []\n",
    "for n, i in enumerate(asset_list):\n",
    "    formatted_value = '{:,.0f}'.format(valn_date_row.values[0][n])\n",
    "    labels.append(f'{i} - {formatted_value}')\n",
    "\n",
    "# create chart\n",
    "plt.pie(valn_date_row.values[0], labels=labels, autopct='%1.2f%%')\n",
    "plt.title(f'{valn_date_str} Capital Pool Split in ETH');"
   ]
  },
  {
   "cell_type": "markdown",
   "id": "210d6c9b",
   "metadata": {},
   "source": [
    "## Monthly Changes in Capital Pool"
   ]
  },
  {
   "cell_type": "markdown",
   "id": "580c9e0e",
   "metadata": {},
   "source": [
    "### RAMM Net Withdrawals"
   ]
  },
  {
   "cell_type": "code",
   "execution_count": 88,
   "id": "f55a9ce8",
   "metadata": {
    "ExecuteTime": {
     "end_time": "2024-09-12T13:28:51.891292Z",
     "start_time": "2024-09-12T13:28:51.852158Z"
    }
   },
   "outputs": [
    {
     "data": {
      "text/plain": [
       "np.float64(-855.487155622599)"
      ]
     },
     "execution_count": 88,
     "metadata": {},
     "output_type": "execute_result"
    }
   ],
   "source": [
    "# RAMM Net Withdrawals\n",
    "df_ramm = ramm_volume_result\n",
    "\n",
    "# change timestamp to datetime format and normalise all dates to midnight\n",
    "df_ramm['ts'] = pd.to_datetime(df_ramm['ts']).dt.floor('D')\n",
    "\n",
    "# group by date, take the latest value and re-sort into descending order\n",
    "df_ramm = df_ramm.groupby(by=df_ramm['ts'].dt.date, as_index=False).first().\\\n",
    "            sort_values(['ts'], ascending=False).reset_index(drop=True)\n",
    "\n",
    "# determine net ramm flows 30 days before and on the valuation date by subtracting redemptions from mints\n",
    "ramm_flows_monthly_opening = df_ramm.loc[df_ramm['ts'] == eom_before_valn_date]['cummulative_eth_in'].values[0] - df_ramm.loc[df_ramm['ts'] == eom_before_valn_date]['cummulative_eth_out'].values[0]\n",
    "ramm_flows_monthly_closing = df_ramm.loc[df_ramm['ts'] == valn_date]['cummulative_eth_in'].values[0] - df_ramm.loc[df_ramm['ts'] == valn_date]['cummulative_eth_out'].values[0]\n",
    "\n",
    "# determine net flows from ramm in 30 days before valuation date \n",
    "ramm_flow_monthly_change = ramm_flows_monthly_closing - ramm_flows_monthly_opening\n",
    "ramm_flow_monthly_change"
   ]
  },
  {
   "cell_type": "markdown",
   "id": "657486ee",
   "metadata": {},
   "source": [
    "### Cover Fees"
   ]
  },
  {
   "cell_type": "code",
   "execution_count": 89,
   "id": "99c09c5f",
   "metadata": {
    "ExecuteTime": {
     "end_time": "2024-09-12T13:28:53.675022Z",
     "start_time": "2024-09-12T13:28:53.645972Z"
    }
   },
   "outputs": [
    {
     "name": "stdout",
     "output_type": "stream",
     "text": [
      "ETH Cover Fees = 51.86599801239743\n",
      "DAI Cover Fees = 18.796573703439904\n",
      "USDC Cover Fees = 52.15895862362723\n",
      "Total Cover Fees = 122.82153033946456\n"
     ]
    }
   ],
   "source": [
    "df_covers = covers_list_result\n",
    "\n",
    "# input commission ratio to obtain cover fees net of commission (representing inflows to Cap Pool)\n",
    "net_of_commission_ratio = 0.85\n",
    "\n",
    "# obtain closing ETH/USD price\n",
    "eth_usd_closing = df_cap.loc[df_cap['day'] == valn_date]['rate_ETH_USD'].values[0]\n",
    "\n",
    "# change timestamp to datetime format and normalise all dates to midnight\n",
    "df_covers['cover_start_time'] = pd.to_datetime(df_covers['cover_start_time']).dt.floor('D').dt.tz_localize(None)\n",
    "\n",
    "# filter for covers that were bought the month of the valn date\n",
    "df_covers_valn_month = df_covers[(df_covers['cover_start_time'] > eom_before_valn_date) & (df_covers['cover_start_time']<=valn_date)]\n",
    "\n",
    "# filter for covers that were paid for in ETH\n",
    "df_covers_valn_month_eth = df_covers_valn_month[df_covers_valn_month['premium_asset'] == 'ETH']\n",
    "# work out cover fees denominated in ETH, allowing for 15% commission\n",
    "monthly_cover_fees_eth = df_covers_valn_month_eth['premium_native'].sum() * net_of_commission_ratio\n",
    "print(f'ETH Cover Fees = {monthly_cover_fees_eth}')\n",
    "\n",
    "# filter for covers that were paid for in DAI\n",
    "df_covers_valn_month_dai = df_covers_valn_month[df_covers_valn_month['premium_asset'] == 'DAI']\n",
    "# work out cover fees denominated in ETH, allowing for 15% commission\n",
    "monthly_cover_fees_dai = df_covers_valn_month_dai['premium_native'].sum() * net_of_commission_ratio\n",
    "monthly_cover_fees_dai_in_eth = monthly_cover_fees_dai / eth_usd_closing\n",
    "print(f'DAI Cover Fees = {monthly_cover_fees_dai_in_eth}')\n",
    "\n",
    "# filter for covers that were paid for in USDC\n",
    "df_covers_valn_month_usdc = df_covers_valn_month[df_covers_valn_month['premium_asset'] == 'USDC']\n",
    "# work out cover fees denominated in ETH, allowing for 15% commission\n",
    "monthly_cover_fees_usdc = df_covers_valn_month_usdc['premium_native'].sum() * net_of_commission_ratio\n",
    "monthly_cover_fees_usdc_in_eth = monthly_cover_fees_usdc / eth_usd_closing\n",
    "print(f'USDC Cover Fees = {monthly_cover_fees_usdc_in_eth}')\n",
    "\n",
    "monthly_cover_fees = monthly_cover_fees_eth + monthly_cover_fees_dai_in_eth + monthly_cover_fees_usdc_in_eth\n",
    "print(f'Total Cover Fees = {monthly_cover_fees}')"
   ]
  },
  {
   "cell_type": "markdown",
   "id": "d586e094",
   "metadata": {},
   "source": [
    "### FX Impacts"
   ]
  },
  {
   "cell_type": "code",
   "execution_count": 90,
   "id": "fb00444b",
   "metadata": {
    "ExecuteTime": {
     "end_time": "2024-09-12T13:28:56.317501Z",
     "start_time": "2024-09-12T13:28:56.305214Z"
    }
   },
   "outputs": [
    {
     "name": "stdout",
     "output_type": "stream",
     "text": [
      "DAI FX Impact = -9.835773565201634\n"
     ]
    }
   ],
   "source": [
    "# exchange rate changes\n",
    "eth_usd_opening = df_cap.loc[df_cap['day'] == eom_before_valn_date]['rate_ETH_USD'].values[0]\n",
    "\n",
    "# get net monthly change from opening DAI\n",
    "dai_monthly_opening = df_cap.loc[df_cap['day'] == eom_before_valn_date]['DAI'].values[0]\n",
    "\n",
    "# dai_monthly_closing = df_cap.loc[df_cap['day'] == valn_date]['DAI'].values[0]\n",
    "# dai_monthly_closing_less_fees = dai_monthly_closing - monthly_cover_fees_dai_in_eth\n",
    "\n",
    "# # allow for withdrawals\n",
    "# dai_withdrawals_eth = dai_cover_re_withdrawals / eth_usd_opening\n",
    "\n",
    "# dai_change = dai_monthly_opening - dai_withdrawals_eth - dai_monthly_closing_less_fees\n",
    "dai_fx_change = dai_monthly_opening * eth_usd_opening / eth_usd_closing - dai_monthly_opening\n",
    "\n",
    "print(f'DAI FX Impact = {dai_fx_change}')"
   ]
  },
  {
   "cell_type": "code",
   "execution_count": 91,
   "id": "2276bd0e",
   "metadata": {
    "ExecuteTime": {
     "end_time": "2024-09-12T13:29:00.718573Z",
     "start_time": "2024-09-12T13:29:00.707821Z"
    }
   },
   "outputs": [
    {
     "name": "stdout",
     "output_type": "stream",
     "text": [
      "USDC FX Impact = -7.114884462008035\n"
     ]
    }
   ],
   "source": [
    "# USDC FX Impact\n",
    "usdc_monthly_opening = df_cap.loc[df_cap['day'] == eom_before_valn_date]['USDC'].values[0]\n",
    "\n",
    "usdc_fx_change = usdc_monthly_opening * eth_usd_opening / eth_usd_closing - usdc_monthly_opening\n",
    "print(f'USDC FX Impact = {usdc_fx_change}')"
   ]
  },
  {
   "cell_type": "code",
   "execution_count": 92,
   "id": "995eab26",
   "metadata": {
    "ExecuteTime": {
     "end_time": "2024-09-12T13:29:01.681105Z",
     "start_time": "2024-09-12T13:29:01.670376Z"
    }
   },
   "outputs": [
    {
     "name": "stdout",
     "output_type": "stream",
     "text": [
      "Cover Re FX Impact = -180.74935991713573\n"
     ]
    }
   ],
   "source": [
    "# Cover Re FX impact\n",
    "cover_re_opening = df_cap.loc[df_cap['day'] == eom_before_valn_date]['Cover Re'].values[0]\n",
    "\n",
    "cover_re_fx_change = cover_re_opening * eth_usd_opening / eth_usd_closing - cover_re_opening\n",
    "print(f'Cover Re FX Impact = {cover_re_fx_change}')"
   ]
  },
  {
   "cell_type": "code",
   "execution_count": 93,
   "id": "6d8eec2e",
   "metadata": {
    "ExecuteTime": {
     "end_time": "2024-09-12T13:29:03.258074Z",
     "start_time": "2024-09-12T13:29:03.248094Z"
    }
   },
   "outputs": [
    {
     "name": "stdout",
     "output_type": "stream",
     "text": [
      "debtUSDC FX Impact = 86.30015700197418\n"
     ]
    }
   ],
   "source": [
    "# debtUSDC FX impact\n",
    "debtUSDC_opening = df_cap.loc[df_cap['day'] == eom_before_valn_date]['variableDebtEthUSDC'].values[0]\n",
    "\n",
    "# FX Impact\n",
    "debtUSDC_fx_change = debtUSDC_opening * eth_usd_opening / eth_usd_closing - debtUSDC_opening\n",
    "print(f'debtUSDC FX Impact = {debtUSDC_fx_change}')"
   ]
  },
  {
   "cell_type": "code",
   "execution_count": 94,
   "id": "91b26243",
   "metadata": {
    "ExecuteTime": {
     "end_time": "2024-09-12T13:29:05.875213Z",
     "start_time": "2024-09-12T13:29:05.868607Z"
    }
   },
   "outputs": [
    {
     "name": "stdout",
     "output_type": "stream",
     "text": [
      "Total FX Impact = -111.39986094237122\n"
     ]
    }
   ],
   "source": [
    "# Total FX Impacts\n",
    "fx_change = dai_fx_change + usdc_fx_change + cover_re_fx_change + debtUSDC_fx_change\n",
    "\n",
    "print(f'Total FX Impact = {fx_change}')"
   ]
  },
  {
   "cell_type": "markdown",
   "id": "b6bfce7a",
   "metadata": {
    "heading_collapsed": true
   },
   "source": [
    "#### TEMPORARY For New Investment in May - FX Impacts Allowing for Cover Re investment\n",
    "\n",
    "In future treat Cover Re, Aave Debt, USDC and DAI as per above."
   ]
  },
  {
   "cell_type": "code",
   "execution_count": 95,
   "id": "0edc0a23",
   "metadata": {
    "ExecuteTime": {
     "end_time": "2024-08-28T08:59:53.072615Z",
     "start_time": "2024-08-28T08:59:53.058028Z"
    },
    "hidden": true
   },
   "outputs": [],
   "source": [
    "# cover_re_date_str = '23-05-2024'\n",
    "# cover_re_date = datetime.strptime(cover_re_date_str, '%d-%m-%Y')\n",
    "# eth_usd_cover_re_date = df_cap.loc[df_cap['day'] == cover_re_date]['rate_ETH_USD'].values[0]"
   ]
  },
  {
   "cell_type": "code",
   "execution_count": 96,
   "id": "b82b8b29",
   "metadata": {
    "ExecuteTime": {
     "end_time": "2024-08-28T08:59:53.089611Z",
     "start_time": "2024-08-28T08:59:53.078405Z"
    },
    "hidden": true
   },
   "outputs": [],
   "source": [
    "# # USDC Split into before and after Cover Re\n",
    "# usdc_monthly_opening = df_cap.loc[df_cap['day'] == eom_before_valn_date]['USDC'].values[0]\n",
    "# usdc_cover_re_opening = df_cap.loc[df_cap['day'] == cover_re_date]['USDC'].values[0]\n",
    "# # Before Cover Re\n",
    "# usdc_fx_change_pre_cover_re = usdc_monthly_opening * eth_usd_opening / eth_usd_cover_re_date - usdc_monthly_opening\n",
    "# print(f'USDC FX Impact Pre Cover Re = {usdc_fx_change_pre_cover_re}')\n",
    "# # After Cover Re\n",
    "# usdc_fx_change_post_cover_re = usdc_cover_re_opening * eth_usd_cover_re_date / eth_usd_closing - usdc_cover_re_opening\n",
    "# print(f'USDC FX Impact Post Cover Re = {usdc_fx_change_post_cover_re}')"
   ]
  },
  {
   "cell_type": "code",
   "execution_count": 97,
   "id": "e7a72d1b",
   "metadata": {
    "ExecuteTime": {
     "end_time": "2024-08-28T08:59:53.125341Z",
     "start_time": "2024-08-28T08:59:53.093881Z"
    },
    "hidden": true
   },
   "outputs": [],
   "source": [
    "# # DAI Split into before and after Cover Re\n",
    "# dai_monthly_opening = df_cap.loc[df_cap['day'] == eom_before_valn_date]['DAI'].values[0]\n",
    "# dai_cover_re_opening = df_cap.loc[df_cap['day'] == cover_re_date]['DAI'].values[0]\n",
    "# # Before Cover Re\n",
    "# dai_fx_change_pre_cover_re = dai_monthly_opening * eth_usd_opening / eth_usd_cover_re_date - dai_monthly_opening\n",
    "# print(f'DAI FX Impact Pre Cover Re = {dai_fx_change_pre_cover_re}')\n",
    "# # After Cover Re\n",
    "# dai_fx_change_post_cover_re = dai_cover_re_opening * eth_usd_cover_re_date / eth_usd_closing - dai_cover_re_opening\n",
    "# print(f'DAI FX Impact Post Cover Re = {dai_fx_change_post_cover_re}')"
   ]
  },
  {
   "cell_type": "code",
   "execution_count": 98,
   "id": "16e4ac15",
   "metadata": {
    "ExecuteTime": {
     "end_time": "2024-08-28T08:59:53.144069Z",
     "start_time": "2024-08-28T08:59:53.131266Z"
    },
    "hidden": true
   },
   "outputs": [],
   "source": [
    "# # debtUSDC FX impact\n",
    "# debtUSDC_opening = df_cap.loc[df_cap['day'] == cover_re_date]['variableDebtEthUSDC'].values[0]\n",
    "\n",
    "# # FX Impact\n",
    "# debtUSDC_fx_change = debtUSDC_opening * eth_usd_cover_re_date / eth_usd_closing - debtUSDC_opening\n",
    "# print(f'debtUSDC FX Impact = {debtUSDC_fx_change}')"
   ]
  },
  {
   "cell_type": "markdown",
   "id": "792f1503",
   "metadata": {},
   "source": [
    "## Monthly Returns on Investments"
   ]
  },
  {
   "cell_type": "code",
   "execution_count": 99,
   "id": "fb570949",
   "metadata": {
    "ExecuteTime": {
     "end_time": "2024-09-12T13:30:46.028339Z",
     "start_time": "2024-09-12T13:30:45.983144Z"
    }
   },
   "outputs": [
    {
     "name": "stdout",
     "output_type": "stream",
     "text": [
      "stETH Monthly APY: 3.048%\n",
      "stETH Monthly Return: 73.824\n",
      "rETH Monthly APY: -1.318%\n",
      "rETH Monthly Return: -16.499\n",
      "Enzyme Vault Monthly APY: 2.705%\n",
      "Enzyme Vault Return: 31.569\n",
      "aEthWETH APY: 1.933%\n",
      "aEthWETH Return: 14.999\n",
      "debtUSDC APY: 9.016%\n",
      "debtUSDC Return: -16.421\n",
      "Aave Net APY: -0.182%\n",
      "Aave Net Return: -1.422\n"
     ]
    }
   ],
   "source": [
    "# Full Monthly Returns\n",
    "\n",
    "# ETH denominated monthly returns on individual investments\n",
    "\n",
    "# stETH metrics in ETH\n",
    "# stETH monthly opening value adjusted for any sales made in month\n",
    "stETH_monthly_opening = df_cap.loc[df_cap['day'] == eom_before_valn_date]['stETH'].values[0] - stETH_sale_amount\n",
    "stETH_closing = df_cap.loc[df_cap['day'] == valn_date]['stETH'].values[0]\n",
    "stETH_monthly_return = stETH_closing - stETH_monthly_opening\n",
    "# derivation of stETH APY denominator based on timing of sale\n",
    "stETH_before = df_cap.loc[df_cap['day'] == eom_before_valn_date]['stETH'].values[0]\n",
    "stETH_after = df_cap.loc[df_cap['day'] == stETH_sale_date + timedelta(days=1)]['stETH'].values[0]\n",
    "days_before = (stETH_sale_date - eom_before_valn_date)/timedelta(days=1)\n",
    "days_after = (valn_date - stETH_sale_date)/timedelta(days=1)\n",
    "stETH_base = (stETH_before * days_before + stETH_after * days_after) / (days_before + days_after)\n",
    "# stETH monthly percentage return\n",
    "stETH_monthly_percentage = stETH_monthly_return / stETH_base\n",
    "# stETH annualised return last month\n",
    "stETH_monthly_APY = (1 + stETH_monthly_percentage) ** 12 - 1\n",
    "print(f'stETH Monthly APY: {round(stETH_monthly_APY * 100, 3)}%')\n",
    "print(f'stETH Monthly Return: {round(stETH_monthly_return, 3)}')\n",
    "\n",
    "# rETH metrics in ETH\n",
    "rETH_monthly_opening = df_cap.loc[df_cap['day'] == eom_before_valn_date]['rETH'].values[0]\n",
    "rETH_closing = df_cap.loc[df_cap['day'] == valn_date]['rETH'].values[0]\n",
    "rETH_monthly_return = rETH_closing - rETH_monthly_opening\n",
    "# rETH monthly percentage\n",
    "rETH_monthly_percentage = rETH_monthly_return / rETH_monthly_opening\n",
    "# rETH annualised return last month\n",
    "rETH_monthly_APY = (1 + rETH_monthly_percentage) ** 12 - 1\n",
    "print(f'rETH Monthly APY: {round(rETH_monthly_APY * 100, 3)}%')\n",
    "print(f'rETH Monthly Return: {round(rETH_monthly_return, 3)}')\n",
    "\n",
    "## Enzyme\n",
    "Enzyme_fee = 0.0015\n",
    "# Enzyme overall metrics in ETH\n",
    "Enzyme_monthly_opening = df_cap.loc[df_cap['day'] == eom_before_valn_date]['Enzyme'].values[0]\n",
    "Enzyme_closing = df_cap.loc[df_cap['day'] == valn_date]['Enzyme'].values[0]\n",
    "Enzyme_monthly_return = Enzyme_closing - Enzyme_monthly_opening \n",
    "# Enzyme monthly percentage\n",
    "Enzyme_monthly_percentage = Enzyme_monthly_return / Enzyme_monthly_opening\n",
    "# Enzyme annualised return last month\n",
    "Enzyme_monthly_APY = (1 + Enzyme_monthly_percentage) ** 12 - 1\n",
    "Enzyme_monthly_APY_after_fees = Enzyme_monthly_APY - Enzyme_fee\n",
    "    \n",
    "# # Kiln standalone metrics in ETH\n",
    "# Kiln_monthly_opening = Enzyme_monthly_opening - Enzyme_idle_portion\n",
    "# Kiln_closing = Enzyme_closing - Enzyme_idle_portion\n",
    "# Kiln_monthly_return = Kiln_closing - Kiln_monthly_opening\n",
    "# # Kiln monthly percentage\n",
    "# Kiln_monthly_percentage = Kiln_monthly_return / Kiln_monthly_opening\n",
    "# # Kiln annualised return last month\n",
    "# Kiln_monthly_APY = (1 + Kiln_monthly_percentage) ** 12 - 1\n",
    "# Kiln_monthly_APY_after_fees = Kiln_monthly_APY - Enzyme_fee\n",
    "\n",
    "print(f'Enzyme Vault Monthly APY: {round(Enzyme_monthly_APY_after_fees * 100, 3)}%')\n",
    "print(f'Enzyme Vault Return: {round(Enzyme_monthly_return, 3)}')\n",
    "\n",
    "# aEthWETH metrics in ETH\n",
    "aEthWETH_monthly_opening = df_cap.loc[df_cap['day'] == eom_before_valn_date]['aEthWETH'].values[0]\n",
    "aEthWETH_monthly_closing = df_cap.loc[df_cap['day'] == valn_date]['aEthWETH'].values[0]\n",
    "aEthWETH_monthly_return = aEthWETH_monthly_closing - aEthWETH_monthly_opening\n",
    "# aEthWETH monthly percentage\n",
    "aEthWETH_monthly_percentage = aEthWETH_monthly_return / aEthWETH_monthly_opening\n",
    "# aEthWETH annualised return last month\n",
    "aEthWETH_monthly_APY = (1 + aEthWETH_monthly_percentage) ** 12 - 1\n",
    "print(f'aEthWETH APY: {round(aEthWETH_monthly_APY * 100, 3)}%')\n",
    "print(f'aEthWETH Return: {round(aEthWETH_monthly_return, 3)}')\n",
    "\n",
    "# debtUSDC metrics in ETH\n",
    "debtUSDC_monthly_opening = df_cap.loc[df_cap['day'] == eom_before_valn_date]['variableDebtEthUSDC'].values[0]\n",
    "debtUSDC_monthly_closing = df_cap.loc[df_cap['day'] == valn_date]['variableDebtEthUSDC'].values[0]\n",
    "# allowing for debtUSDC repayment\n",
    "# Read ETH-USD value as at repayment date\n",
    "eth_usd_repayment = df_cap.loc[df_cap['day'] == debtUSDC_repayment_date]['rate_ETH_USD'].values[0]\n",
    "# Value of repayment in ETH\n",
    "debtUSDC_monthly_repayment_eth = debtUSDC_monthly_repayment / eth_usd_repayment\n",
    "# debtUSDC_monthly_return\n",
    "debtUSDC_monthly_return = debtUSDC_monthly_closing - (debtUSDC_monthly_opening + debtUSDC_fx_change + debtUSDC_monthly_repayment_eth)\n",
    "# debtUSDC monthly percentage\n",
    "# Note: not fully accurate, as we compare it to the opening value, not the time-weighted average balance through the month\n",
    "debtUSDC_monthly_percentage = debtUSDC_monthly_return / debtUSDC_monthly_opening\n",
    "# debtUSDC annualised return last month\n",
    "debtUSDC_monthly_APY = (1 + debtUSDC_monthly_percentage) ** 12 - 1\n",
    "print(f'debtUSDC APY: {round(debtUSDC_monthly_APY * 100, 3)}%')\n",
    "print(f'debtUSDC Return: {round(debtUSDC_monthly_return, 3)}')\n",
    "\n",
    "# Aave Net\n",
    "aave_net_monthly_return = aEthWETH_monthly_return + debtUSDC_monthly_return\n",
    "\n",
    "# Aave net monthly percentage\n",
    "aave_net_monthly_percentage = aave_net_monthly_return / aEthWETH_monthly_opening\n",
    "# Aave net annualised return last month\n",
    "aave_net_monthly_APY = (1 + aave_net_monthly_percentage) ** 12 - 1\n",
    "print(f'Aave Net APY: {round(aave_net_monthly_APY * 100, 3)}%')\n",
    "print(f'Aave Net Return: {round(aave_net_monthly_return, 3)}')"
   ]
  },
  {
   "cell_type": "code",
   "execution_count": 100,
   "id": "58aece89",
   "metadata": {
    "ExecuteTime": {
     "end_time": "2024-09-12T13:32:10.679869Z",
     "start_time": "2024-09-12T13:32:10.161945Z"
    }
   },
   "outputs": [
    {
     "name": "stderr",
     "output_type": "stream",
     "text": [
      "/var/folders/nr/x38pd1sn7yq6g73hb2vbfhv00000gn/T/ipykernel_10145/3614988767.py:17: UserWarning: set_ticklabels() should only be used with a fixed number of ticks, i.e. after set_ticks() or using a FixedLocator.\n",
      "  axs[0].set_yticklabels(['{:,.1%}'.format(x) for x in tick_vals])\n"
     ]
    },
    {
     "data": {
      "image/png": "[encoded data removed]",
      "text/plain": [
       "<Figure size 1000x500 with 2 Axes>"
      ]
     },
     "metadata": {},
     "output_type": "display_data"
    }
   ],
   "source": [
    "# MONTHLY RETURN GRAPHS FOR INDIVIDUAL INVESTMENTS\n",
    "\n",
    "labels = ['stETH', 'rETH', 'Enzyme Vault', 'Aave (net)']\n",
    "colors = ['#00a3ff', '#f26e34', '#202020', '#b6509e']\n",
    "\n",
    "# Destructuring initialization\n",
    "fig, axs = plt.subplots(1, 2, figsize=(10,5))\n",
    "fig.suptitle(f'Investment Monthly Returns', fontsize=16)\n",
    "fig.tight_layout()\n",
    "fig.subplots_adjust(top=0.88)\n",
    "\n",
    "# Subplot\n",
    "axs[0].bar(labels, [stETH_monthly_APY, rETH_monthly_APY, Enzyme_monthly_APY_after_fees, aave_net_monthly_APY], color=colors)\n",
    "axs[0].set_title('APY')\n",
    "axs[0].set_ylabel('APY')\n",
    "tick_vals = axs[0].get_yticks()\n",
    "axs[0].set_yticklabels(['{:,.1%}'.format(x) for x in tick_vals])\n",
    "\n",
    "# Subplot\n",
    "axs[1].bar(labels, [stETH_monthly_return, rETH_monthly_return, Enzyme_monthly_return*(1-0.0015), aave_net_monthly_return], color=colors);\n",
    "axs[1].set_title('Absolute Return')\n",
    "axs[1].set_ylabel('ETH')\n",
    "\n",
    "plt.show();"
   ]
  },
  {
   "cell_type": "code",
   "execution_count": 101,
   "id": "ae93d401",
   "metadata": {
    "ExecuteTime": {
     "end_time": "2024-09-12T13:32:46.724866Z",
     "start_time": "2024-09-12T13:32:46.712659Z"
    }
   },
   "outputs": [
    {
     "name": "stdout",
     "output_type": "stream",
     "text": [
      "Total Monthly APY: 1.294%\n",
      "Based on average Capital Pool amount over the monthly period\n",
      "Total ETH Earned: 87.424\n"
     ]
    }
   ],
   "source": [
    "# Total Monthly APY on the Capital Pool\n",
    "\n",
    "# Total ETH earned\n",
    "total_monthly_inv_earnings = round(stETH_monthly_return + rETH_monthly_return + Enzyme_monthly_return*(1-0.0015) + aave_net_monthly_return, 3)\n",
    "\n",
    "# averaging the total ETH value of capital pool over the monthly period\n",
    "total_cap_monthly_opening = df_cap.loc[df_cap['day'] == eom_before_valn_date]['sum'].values[0]\n",
    "total_cap_monthly_closing = df_cap.loc[df_cap['day'] == valn_date]['sum'].values[0]\n",
    "avg_total_cap_pool = (total_cap_monthly_closing + total_cap_monthly_opening) / 2\n",
    "\n",
    "# monthly apy based on total earning\n",
    "total_monthly_percentage = total_monthly_inv_earnings / avg_total_cap_pool\n",
    "total_monthly_APY = ((1 + total_monthly_percentage) ** 12 - 1)\n",
    "\n",
    "print(f'Total Monthly APY: {round(total_monthly_APY * 100, 3)}%')\n",
    "print('Based on average Capital Pool amount over the monthly period')\n",
    "print(f'Total ETH Earned: {total_monthly_inv_earnings}')"
   ]
  },
  {
   "cell_type": "code",
   "execution_count": 102,
   "id": "8f17ffb5",
   "metadata": {
    "ExecuteTime": {
     "end_time": "2024-09-12T13:34:14.962042Z",
     "start_time": "2024-09-12T13:34:14.952010Z"
    }
   },
   "outputs": [
    {
     "name": "stdout",
     "output_type": "stream",
     "text": [
      "stETH Monthly Return: 73.824\n",
      "stETH Monthly APY: 3.048%\n",
      "\n",
      "rETH Monthly Return: -16.499\n",
      "rETH Monthly APY: -1.318%\n",
      "\n",
      "Enzyme Vault Monthly Return: 31.522\n",
      "Enzyme Vault Monthly APY: 2.705%\n",
      "Enzyme Vault includes Kiln, EtherFi and Chorus One/Stakewise V3 investments\n",
      "\n",
      "aEthWETH Return: 14.999\n",
      "aEthWETH APY: 1.933%\n",
      "debtUSDC Return: -16.421\n",
      "debtUSDC APY: 9.016%\n",
      "Aave Net Return: -1.422\n",
      "Aave Net APY: -0.182%\n",
      "\n",
      "Total ETH Earned: 87.424\n",
      "Total Monthly APY: 1.294%\n",
      "Based on average Capital Pool amount over the monthly period\n",
      "\n",
      "All returns after fees\n"
     ]
    }
   ],
   "source": [
    "# Printout\n",
    "\n",
    "print(f'stETH Monthly Return: {round(stETH_monthly_return, 3)}')\n",
    "print(f'stETH Monthly APY: {round(stETH_monthly_APY * 100, 3)}%\\n')\n",
    "print(f'rETH Monthly Return: {round(rETH_monthly_return, 3)}')\n",
    "print(f'rETH Monthly APY: {round(rETH_monthly_APY * 100, 3)}%\\n')\n",
    "print(f'Enzyme Vault Monthly Return: {round(Enzyme_monthly_return * (1-0.0015), 3)}')\n",
    "print(f'Enzyme Vault Monthly APY: {round(Enzyme_monthly_APY_after_fees * 100, 3)}%')\n",
    "print(f'Enzyme Vault includes Kiln, EtherFi and Chorus One/Stakewise V3 investments\\n')\n",
    "print(f'aEthWETH Return: {round(aEthWETH_monthly_return, 3)}')\n",
    "print(f'aEthWETH APY: {round(aEthWETH_monthly_APY * 100, 3)}%')\n",
    "print(f'debtUSDC Return: {round(debtUSDC_monthly_return, 3)}')\n",
    "print(f'debtUSDC APY: {round(debtUSDC_monthly_APY * 100, 3)}%')\n",
    "print(f'Aave Net Return: {round(aave_net_monthly_return, 3)}')\n",
    "print(f'Aave Net APY: {round(aave_net_monthly_APY * 100, 3)}%\\n')\n",
    "print(f'Total ETH Earned: {total_monthly_inv_earnings}')\n",
    "print(f'Total Monthly APY: {round(total_monthly_APY * 100, 3)}%')\n",
    "print('Based on average Capital Pool amount over the monthly period\\n')\n",
    "\n",
    "print ('All returns after fees')"
   ]
  },
  {
   "cell_type": "markdown",
   "id": "e3bba312",
   "metadata": {},
   "source": [
    "## Monthly Changes in Capital Pool "
   ]
  },
  {
   "cell_type": "code",
   "execution_count": 118,
   "id": "87b4c553",
   "metadata": {
    "ExecuteTime": {
     "end_time": "2024-09-12T13:34:53.709114Z",
     "start_time": "2024-09-12T13:34:53.399888Z"
    }
   },
   "outputs": [
    {
     "name": "stderr",
     "output_type": "stream",
     "text": [
      "/var/folders/nr/x38pd1sn7yq6g73hb2vbfhv00000gn/T/ipykernel_10145/581607269.py:32: UserWarning: set_ticklabels() should only be used with a fixed number of ticks, i.e. after set_ticks() or using a FixedLocator.\n",
      "  waterfall_plot.set_yticklabels(['{:,.0f}'.format(x) for x in tick_vals])\n",
      "/var/folders/nr/x38pd1sn7yq6g73hb2vbfhv00000gn/T/ipykernel_10145/581607269.py:43: FutureWarning: Series.__getitem__ treating keys as positions is deprecated. In a future version, integer keys will always be treated as labels (consistent with DataFrame behavior). To access a value by position, use `ser.iloc[pos]`\n",
      "  y = y_height[loop] + row['amount']\n",
      "/Users/tomasz/.local/share/virtualenvs/NMInvestmentMonitoring-HqzqS9GB/lib/python3.12/site-packages/matplotlib/text.py:1467: FutureWarning: Calling float on a single element Series is deprecated and will raise a TypeError in the future. Use float(ser.iloc[0]) instead\n",
      "  y = float(self.convert_yunits(y))\n",
      "/Users/tomasz/.local/share/virtualenvs/NMInvestmentMonitoring-HqzqS9GB/lib/python3.12/site-packages/matplotlib/text.py:757: FutureWarning: Calling float on a single element Series is deprecated and will raise a TypeError in the future. Use float(ser.iloc[0]) instead\n",
      "  posy = float(self.convert_yunits(self._y))\n",
      "/Users/tomasz/.local/share/virtualenvs/NMInvestmentMonitoring-HqzqS9GB/lib/python3.12/site-packages/matplotlib/text.py:898: FutureWarning: Calling float on a single element Series is deprecated and will raise a TypeError in the future. Use float(ser.iloc[0]) instead\n",
      "  y = float(self.convert_yunits(self._y))\n"
     ]
    },
    {
     "data": {
      "image/png": "[encoded data removed]",
      "text/plain": [
       "<Figure size 640x480 with 1 Axes>"
      ]
     },
     "metadata": {},
     "output_type": "display_data"
    }
   ],
   "source": [
    "# waterfall chart for changes in the capital pool\n",
    "\n",
    "# UPDATE\n",
    "# set limits on chart manually\n",
    "bottom = 80_500\n",
    "top = 82_500\n",
    "\n",
    "# create dataframe with relevant categories\n",
    "index = ['opening capital pool', 'cover fee income', 'investment returns', 'stablecoin impact', 'ramm net redemptions']\n",
    "data = {'amount': [total_cap_monthly_opening, monthly_cover_fees, total_monthly_inv_earnings, fx_change, ramm_flow_monthly_change]}\n",
    "df_waterfall = pd.DataFrame(data=data, index=index)\n",
    "\n",
    "# create a shifted dataframe by one space and fill the empty space with zero\n",
    "df_shift = df_waterfall.amount.cumsum().shift(1).fillna(0)\n",
    "\n",
    "# add the 'closing' line to both dataframes\n",
    "total = df_waterfall.sum().amount\n",
    "df_waterfall.loc['closing capital pool'] = total\n",
    "df_shift.loc['closing capital pool'] = 0\n",
    "\n",
    "# define the Nexus Mutual green color\n",
    "color = '#0AB682'\n",
    "\n",
    "# create waterfall plot\n",
    "waterfall_plot = df_waterfall.plot.bar(stacked=True, bottom=df_shift,\n",
    "                                   legend=None, color=color, title=f'{valn_date_str[-7:]} Capital Pool Waterfall')\n",
    "waterfall_plot.set_ylim(bottom=bottom, top=top)\n",
    "waterfall_plot.set_ylabel('ETH')\n",
    "\n",
    "# change format of tick values\n",
    "tick_vals = waterfall_plot.get_yticks()\n",
    "waterfall_plot.set_yticklabels(['{:,.0f}'.format(x) for x in tick_vals])\n",
    "\n",
    "# label loop for individual items\n",
    "maximum = df_waterfall.max()\n",
    "neg_offset = maximum / 400\n",
    "pos_offset = maximum / 800\n",
    "\n",
    "y_height = df_shift\n",
    "\n",
    "loop = 0\n",
    "for index, row in df_waterfall.iterrows():\n",
    "    y = y_height[loop] + row['amount']\n",
    "    # determine negative or positive offset\n",
    "    if row['amount'] > 0:\n",
    "        y += pos_offset\n",
    "    else:\n",
    "        y -= neg_offset\n",
    "    waterfall_plot.annotate(\"{:,.0f}\".format(row['amount']), (loop, y), ha=\"center\")\n",
    "    loop+=1"
   ]
  },
  {
   "cell_type": "code",
   "execution_count": 104,
   "id": "f0dd7464",
   "metadata": {
    "ExecuteTime": {
     "end_time": "2024-09-12T13:35:07.472109Z",
     "start_time": "2024-09-12T13:35:07.465651Z"
    }
   },
   "outputs": [
    {
     "name": "stdout",
     "output_type": "stream",
     "text": [
      "Capital Pool Total Change - -756.64\n",
      "Capital Pool Percentage Change - -0.92%\n"
     ]
    }
   ],
   "source": [
    "# Total change in capital pool\n",
    "capital_pool_change = df_waterfall.loc['closing capital pool'].values[0] - df_waterfall.loc['opening capital pool'].values[0]\n",
    "print(f'Capital Pool Total Change - {round(capital_pool_change, 2)}')\n",
    "print(f'Capital Pool Percentage Change - {round(100 * capital_pool_change / (df_waterfall.loc[\"opening capital pool\"].values[0]), 2)}%')"
   ]
  },
  {
   "cell_type": "markdown",
   "id": "b6513f9c",
   "metadata": {
    "heading_collapsed": true
   },
   "source": [
    "# Divestment Plan (Out of Date; Update if Required)"
   ]
  },
  {
   "cell_type": "markdown",
   "id": "d22e9598",
   "metadata": {
    "hidden": true
   },
   "source": [
    "## Pie Chart of Assets Today"
   ]
  },
  {
   "cell_type": "code",
   "execution_count": 105,
   "id": "db6778b9",
   "metadata": {
    "ExecuteTime": {
     "end_time": "2024-08-28T08:59:54.294814Z",
     "start_time": "2024-08-28T08:59:54.239881Z"
    },
    "hidden": true
   },
   "outputs": [
    {
     "name": "stderr",
     "output_type": "stream",
     "text": [
      "/var/folders/nr/x38pd1sn7yq6g73hb2vbfhv00000gn/T/ipykernel_10145/1517165823.py:2: SettingWithCopyWarning: \n",
      "A value is trying to be set on a copy of a slice from a DataFrame\n",
      "\n",
      "See the caveats in the documentation: https://pandas.pydata.org/pandas-docs/stable/user_guide/indexing.html#returning-a-view-versus-a-copy\n",
      "  today_row['Kiln'] = today_row['Enzyme'] - Enzyme_idle_portion\n",
      "/var/folders/nr/x38pd1sn7yq6g73hb2vbfhv00000gn/T/ipykernel_10145/1517165823.py:2: SettingWithCopyWarning: \n",
      "A value is trying to be set on a copy of a slice from a DataFrame\n",
      "\n",
      "See the caveats in the documentation: https://pandas.pydata.org/pandas-docs/stable/user_guide/indexing.html#returning-a-view-versus-a-copy\n",
      "  today_row['Kiln'] = today_row['Enzyme'] - Enzyme_idle_portion\n",
      "/var/folders/nr/x38pd1sn7yq6g73hb2vbfhv00000gn/T/ipykernel_10145/1517165823.py:3: SettingWithCopyWarning: \n",
      "A value is trying to be set on a copy of a slice from a DataFrame\n",
      "\n",
      "See the caveats in the documentation: https://pandas.pydata.org/pandas-docs/stable/user_guide/indexing.html#returning-a-view-versus-a-copy\n",
      "  today_row['Enzyme Idle'] = Enzyme_idle_portion\n",
      "/var/folders/nr/x38pd1sn7yq6g73hb2vbfhv00000gn/T/ipykernel_10145/1517165823.py:3: SettingWithCopyWarning: \n",
      "A value is trying to be set on a copy of a slice from a DataFrame\n",
      "\n",
      "See the caveats in the documentation: https://pandas.pydata.org/pandas-docs/stable/user_guide/indexing.html#returning-a-view-versus-a-copy\n",
      "  today_row['Enzyme Idle'] = Enzyme_idle_portion\n",
      "/var/folders/nr/x38pd1sn7yq6g73hb2vbfhv00000gn/T/ipykernel_10145/1517165823.py:4: SettingWithCopyWarning: \n",
      "A value is trying to be set on a copy of a slice from a DataFrame\n",
      "\n",
      "See the caveats in the documentation: https://pandas.pydata.org/pandas-docs/stable/user_guide/indexing.html#returning-a-view-versus-a-copy\n",
      "  today_row.rename({'Cover Re': 'Cover Re Investment', 'aEthWETH':'Cover Re Loan Collateral', 'variableDebtEthUSDC': 'Cover Re Loan Outstanding'}, inplace=True)\n"
     ]
    },
    {
     "data": {
      "text/plain": [
       "day                          2024-10-03 00:00:00\n",
       "rate_ETH_USD                         2388.567273\n",
       "ETH                                 10916.029123\n",
       "DAI                                   195.612637\n",
       "Enzyme                              13474.431694\n",
       "stETH                               29569.640992\n",
       "rETH                                14955.612587\n",
       "USDC                                  307.383345\n",
       "Cover Re Investment                  5027.148552\n",
       "Cover Re Loan Collateral             9408.030757\n",
       "Cover Re Loan Outstanding           -2311.859436\n",
       "sum                                 81542.030251\n",
       "Aave (net)                           7096.171321\n",
       "Kiln                                13474.431694\n",
       "Enzyme Idle                                    0\n",
       "Name: 0, dtype: object"
      ]
     },
     "execution_count": 105,
     "metadata": {},
     "output_type": "execute_result"
    }
   ],
   "source": [
    "today_row = df_cap.iloc[0]\n",
    "today_row['Kiln'] = today_row['Enzyme'] - Enzyme_idle_portion\n",
    "today_row['Enzyme Idle'] = Enzyme_idle_portion\n",
    "today_row.rename({'Cover Re': 'Cover Re Investment', 'aEthWETH':'Cover Re Loan Collateral', 'variableDebtEthUSDC': 'Cover Re Loan Outstanding'}, inplace=True)\n",
    "today_row"
   ]
  },
  {
   "cell_type": "code",
   "execution_count": 106,
   "id": "accbd19d",
   "metadata": {
    "ExecuteTime": {
     "end_time": "2024-08-28T08:59:54.615564Z",
     "start_time": "2024-08-28T08:59:54.301187Z"
    },
    "hidden": true
   },
   "outputs": [
    {
     "data": {
      "image/png": "[encoded data removed]",
      "text/plain": [
       "<Figure size 640x480 with 1 Axes>"
      ]
     },
     "metadata": {},
     "output_type": "display_data"
    }
   ],
   "source": [
    "pie_asset_list = ['ETH', 'DAI', 'stETH', 'rETH', 'Enzyme Idle', 'Kiln', 'Cover Re Investment', 'Aave (net)', 'USDC']\n",
    "today_row_pie = today_row[pie_asset_list]\n",
    "\n",
    "# add formatted ETH values to labels\n",
    "labels = []\n",
    "for n, i in enumerate(pie_asset_list):\n",
    "    formatted_value = '{:,.0f}'.format(today_row_pie.values[n])\n",
    "    labels.append(f'{i} - {formatted_value}')\n",
    "\n",
    "# create chart\n",
    "# extract latest date in string format\n",
    "today_date_str = df_cap.iloc[0]['day'].strftime('%d-%m-%Y')\n",
    "# create chart\n",
    "plt.pie(today_row_pie.values, labels=labels, autopct='%1.2f%%')\n",
    "plt.title(f'{today_date_str} Capital Pool Split in ETH');"
   ]
  },
  {
   "cell_type": "markdown",
   "id": "38ac23c0",
   "metadata": {
    "heading_collapsed": true,
    "hidden": true
   },
   "source": [
    "## Monthly Averages Since Start of 2024 "
   ]
  },
  {
   "cell_type": "code",
   "execution_count": 107,
   "id": "844332a5",
   "metadata": {
    "ExecuteTime": {
     "end_time": "2024-08-28T08:59:54.630903Z",
     "start_time": "2024-08-28T08:59:54.619011Z"
    },
    "hidden": true
   },
   "outputs": [],
   "source": [
    "# get today's day, month and year\n",
    "\n",
    "day_today = datetime.now().day\n",
    "month_today = datetime.now().month\n",
    "year_today = datetime.now().year\n",
    "\n",
    "# get eth price today\n",
    "eth_usd_today = df_cap.iloc[0]['rate_ETH_USD']\n",
    "\n",
    "# manually input average start date\n",
    "averages_start_date_str = '01-08-2023'\n",
    "# create average start datetime\n",
    "averages_start_date = datetime.strptime(averages_start_date_str, '%d-%m-%Y')"
   ]
  },
  {
   "cell_type": "code",
   "execution_count": 108,
   "id": "f5874d68",
   "metadata": {
    "ExecuteTime": {
     "end_time": "2024-08-28T08:59:54.803213Z",
     "start_time": "2024-08-28T08:59:54.638580Z"
    },
    "hidden": true
   },
   "outputs": [
    {
     "name": "stdout",
     "output_type": "stream",
     "text": [
      "Average monthly stETH returns = -219.84205925747665\n",
      "Average monthly rETH returns = 36.261319529642215\n",
      "Average monthly kiln returns = 20.946855214687503\n",
      "Average monthly net ETH cover fees = 5.959809994742494\n",
      "Average monthly RAMM flows = -2511.538890713246\n"
     ]
    }
   ],
   "source": [
    "# loop through months since the start date and obtain averages\n",
    "\n",
    "date = averages_start_date\n",
    "ramm_flows = []\n",
    "net_eth_fees = []\n",
    "claim_ratio = 0.7\n",
    "stETH_returns = []\n",
    "rETH_returns = []\n",
    "\n",
    "while date < datetime(year_today, month_today, 1):\n",
    "    next_month = datetime(year = date.year + int(date.month / 12), month = (date.month % 12) + 1, day=date.day)\n",
    "    \n",
    "    # RAMM FLOWS\n",
    "    # determine net ramm flows in month in 2024\n",
    "    if date.year >= 2024:\n",
    "        ramm_flows_opening = df_ramm.loc[df_ramm['ts'] == date]['cummulative_eth_in'].values[0] - df_ramm.loc[df_ramm['ts'] == date]['cummulative_eth_out'].values[0]\n",
    "        ramm_flows_closing = df_ramm.loc[df_ramm['ts'] == next_month]['cummulative_eth_in'].values[0] - df_ramm.loc[df_ramm['ts'] == next_month]['cummulative_eth_out'].values[0]\n",
    "        ramm_flows_change = ramm_flows_closing - ramm_flows_opening\n",
    "        ramm_flows.append(ramm_flows_change)\n",
    "    \n",
    "    # COVERS\n",
    "    # filter for covers that were bought in the relevant month\n",
    "    df_cover_flows = df_covers[(df_covers['cover_start_time']>=date) & (df_covers['cover_start_time']<next_month)]\n",
    "\n",
    "    # filter for covers that were paid for in ETH\n",
    "    # (note covers paid in NXM don't generate assets and covers paid for in DAI/USDC will be used to pay off the Cover Re loan)\n",
    "    df_cover_flows = df_cover_flows[df_cover_flows['premium_asset'] == 'ETH']\n",
    "\n",
    "    # work out cover fees, allowing for 15% commission\n",
    "    eth_cover_fees = df_cover_flows['premium_native'].sum() * 0.85\n",
    "    # append to list, allowing for 70% claim ratio\n",
    "    net_eth_monthly_fees = eth_cover_fees * (1 - claim_ratio)\n",
    "    net_eth_fees.append(net_eth_monthly_fees)\n",
    "    \n",
    "    # INVESTMENT INCOME\n",
    "    # stETH\n",
    "    stETH_opening = df_cap.loc[df_cap['day'] == date]['stETH'].values[0]\n",
    "    stETH_closing = df_cap.loc[df_cap['day'] == next_month]['stETH'].values[0]\n",
    "    stETH_returns.append(stETH_closing - stETH_opening)\n",
    "    # rETH\n",
    "    rETH_opening = df_cap.loc[df_cap['day'] == date]['rETH'].values[0]\n",
    "    rETH_closing = df_cap.loc[df_cap['day'] == next_month]['rETH'].values[0]\n",
    "    rETH_returns.append(rETH_closing - rETH_opening) \n",
    "    \n",
    "    # move date along\n",
    "    date = next_month\n",
    "\n",
    "# Average Kiln rewards in month\n",
    "days_total_kiln_rewards = (df_cap.iloc[0]['day'] - kiln_deposit_date)/timedelta(days=1)\n",
    "daily_total_kiln_rewards = kiln_total_rewards / days_total_kiln_rewards\n",
    "avg_monthly_kiln_returns = daily_total_kiln_rewards * avg_days_in_month\n",
    "\n",
    "# Average RAMM flows\n",
    "avg_monthly_ramm_flows = sum(ramm_flows)/len(ramm_flows)\n",
    "\n",
    "# Average ETH Cover Fees\n",
    "avg_monthly_net_eth_fees = sum(net_eth_fees)/len(net_eth_fees)\n",
    "\n",
    "# Average stETH returns\n",
    "avg_monthly_stETH_returns = sum(stETH_returns)/len(stETH_returns)\n",
    "\n",
    "# Average rETH returns\n",
    "avg_monthly_rETH_returns = sum(rETH_returns)/len(rETH_returns)\n",
    "\n",
    "print(f'Average monthly stETH returns = {avg_monthly_stETH_returns}')\n",
    "print(f'Average monthly rETH returns = {avg_monthly_rETH_returns}')\n",
    "print(f'Average monthly kiln returns = {avg_monthly_kiln_returns}')\n",
    "print(f'Average monthly net ETH cover fees = {avg_monthly_net_eth_fees}')\n",
    "print(f'Average monthly RAMM flows = {avg_monthly_ramm_flows}')"
   ]
  },
  {
   "cell_type": "markdown",
   "id": "dc4ca8d7",
   "metadata": {
    "hidden": true
   },
   "source": [
    "## Asset Projection"
   ]
  },
  {
   "cell_type": "code",
   "execution_count": 109,
   "id": "33e32152",
   "metadata": {
    "ExecuteTime": {
     "end_time": "2024-08-28T08:59:54.828485Z",
     "start_time": "2024-08-28T08:59:54.809078Z"
    },
    "hidden": true
   },
   "outputs": [
    {
     "data": {
      "text/plain": [
       "day                          2024-10-03 00:00:00\n",
       "rate_ETH_USD                         2388.567273\n",
       "ETH                                 10916.029123\n",
       "DAI                                   195.612637\n",
       "Enzyme                              13474.431694\n",
       "stETH                               29569.640992\n",
       "rETH                                14955.612587\n",
       "USDC                                  307.383345\n",
       "Cover Re Investment                  5027.148552\n",
       "Cover Re Loan Collateral             9408.030757\n",
       "Cover Re Loan Outstanding           -2311.859436\n",
       "sum                                 81542.030251\n",
       "Aave (net)                           7096.171321\n",
       "Kiln                                13474.431694\n",
       "Enzyme Idle                                    0\n",
       "Name: 0, dtype: object"
      ]
     },
     "execution_count": 109,
     "metadata": {},
     "output_type": "execute_result"
    }
   ],
   "source": [
    "today_row"
   ]
  },
  {
   "cell_type": "code",
   "execution_count": 110,
   "id": "b1258180",
   "metadata": {
    "ExecuteTime": {
     "end_time": "2024-08-28T08:59:54.951429Z",
     "start_time": "2024-08-28T08:59:54.832277Z"
    },
    "hidden": true
   },
   "outputs": [
    {
     "data": {
      "text/html": [
       "<div>\n",
       "<style scoped>\n",
       "    .dataframe tbody tr th:only-of-type {\n",
       "        vertical-align: middle;\n",
       "    }\n",
       "\n",
       "    .dataframe tbody tr th {\n",
       "        vertical-align: top;\n",
       "    }\n",
       "\n",
       "    .dataframe thead th {\n",
       "        text-align: right;\n",
       "    }\n",
       "</style>\n",
       "<table border=\"1\" class=\"dataframe\">\n",
       "  <thead>\n",
       "    <tr style=\"text-align: right;\">\n",
       "      <th></th>\n",
       "      <th>ETH</th>\n",
       "      <th>DAI</th>\n",
       "      <th>stETH</th>\n",
       "      <th>rETH</th>\n",
       "      <th>Enzyme Idle</th>\n",
       "      <th>Kiln</th>\n",
       "      <th>Cover Re Investment</th>\n",
       "      <th>Cover Re Loan Collateral</th>\n",
       "      <th>Cover Re Loan Outstanding</th>\n",
       "      <th>USDC</th>\n",
       "    </tr>\n",
       "  </thead>\n",
       "  <tbody>\n",
       "    <tr>\n",
       "      <th>0</th>\n",
       "      <td>10916.029123</td>\n",
       "      <td>195.612637</td>\n",
       "      <td>29569.640992</td>\n",
       "      <td>14955.612587</td>\n",
       "      <td>0</td>\n",
       "      <td>13474.431694</td>\n",
       "      <td>5027.148552</td>\n",
       "      <td>9408.030757</td>\n",
       "      <td>-2311.859436</td>\n",
       "      <td>307.383345</td>\n",
       "    </tr>\n",
       "    <tr>\n",
       "      <th>1</th>\n",
       "      <td>8410.450042</td>\n",
       "      <td>195.612637</td>\n",
       "      <td>29349.798933</td>\n",
       "      <td>14991.873907</td>\n",
       "      <td>0</td>\n",
       "      <td>13495.378549</td>\n",
       "      <td>5104.111535</td>\n",
       "      <td>9420.020006</td>\n",
       "      <td>-2328.004861</td>\n",
       "      <td>307.383345</td>\n",
       "    </tr>\n",
       "    <tr>\n",
       "      <th>2</th>\n",
       "      <td>5904.870962</td>\n",
       "      <td>195.612637</td>\n",
       "      <td>29129.956874</td>\n",
       "      <td>15028.135226</td>\n",
       "      <td>0</td>\n",
       "      <td>13516.325404</td>\n",
       "      <td>5182.25278</td>\n",
       "      <td>9432.024533</td>\n",
       "      <td>-2344.263042</td>\n",
       "      <td>307.383345</td>\n",
       "    </tr>\n",
       "    <tr>\n",
       "      <th>3</th>\n",
       "      <td>3399.291881</td>\n",
       "      <td>195.612637</td>\n",
       "      <td>28910.114814</td>\n",
       "      <td>15064.396546</td>\n",
       "      <td>0</td>\n",
       "      <td>13537.272259</td>\n",
       "      <td>5261.590326</td>\n",
       "      <td>9444.044359</td>\n",
       "      <td>-2360.634766</td>\n",
       "      <td>307.383345</td>\n",
       "    </tr>\n",
       "    <tr>\n",
       "      <th>4</th>\n",
       "      <td>893.7128</td>\n",
       "      <td>195.612637</td>\n",
       "      <td>28690.272755</td>\n",
       "      <td>15100.657865</td>\n",
       "      <td>0</td>\n",
       "      <td>13558.219115</td>\n",
       "      <td>5342.142488</td>\n",
       "      <td>9456.079502</td>\n",
       "      <td>-2377.120825</td>\n",
       "      <td>307.383345</td>\n",
       "    </tr>\n",
       "    <tr>\n",
       "      <th>5</th>\n",
       "      <td>-1611.86628</td>\n",
       "      <td>195.612637</td>\n",
       "      <td>28470.430696</td>\n",
       "      <td>15136.919185</td>\n",
       "      <td>0</td>\n",
       "      <td>13579.16597</td>\n",
       "      <td>5423.927861</td>\n",
       "      <td>9468.129983</td>\n",
       "      <td>-2393.722019</td>\n",
       "      <td>307.383345</td>\n",
       "    </tr>\n",
       "    <tr>\n",
       "      <th>6</th>\n",
       "      <td>-4117.445361</td>\n",
       "      <td>195.612637</td>\n",
       "      <td>28250.588637</td>\n",
       "      <td>15173.180504</td>\n",
       "      <td>0</td>\n",
       "      <td>13600.112825</td>\n",
       "      <td>5506.965324</td>\n",
       "      <td>9480.19582</td>\n",
       "      <td>-2410.439152</td>\n",
       "      <td>307.383345</td>\n",
       "    </tr>\n",
       "    <tr>\n",
       "      <th>7</th>\n",
       "      <td>-6623.024442</td>\n",
       "      <td>195.612637</td>\n",
       "      <td>28030.746577</td>\n",
       "      <td>15209.441824</td>\n",
       "      <td>0</td>\n",
       "      <td>13621.05968</td>\n",
       "      <td>5591.274047</td>\n",
       "      <td>9492.277033</td>\n",
       "      <td>-2427.273032</td>\n",
       "      <td>307.383345</td>\n",
       "    </tr>\n",
       "    <tr>\n",
       "      <th>8</th>\n",
       "      <td>-9128.603523</td>\n",
       "      <td>195.612637</td>\n",
       "      <td>27810.904518</td>\n",
       "      <td>15245.703143</td>\n",
       "      <td>0</td>\n",
       "      <td>13642.006536</td>\n",
       "      <td>5676.873492</td>\n",
       "      <td>9504.373642</td>\n",
       "      <td>-2444.224476</td>\n",
       "      <td>307.383345</td>\n",
       "    </tr>\n",
       "    <tr>\n",
       "      <th>9</th>\n",
       "      <td>-11634.182603</td>\n",
       "      <td>195.612637</td>\n",
       "      <td>27591.062459</td>\n",
       "      <td>15281.964463</td>\n",
       "      <td>0</td>\n",
       "      <td>13662.953391</td>\n",
       "      <td>5763.78342</td>\n",
       "      <td>9516.485667</td>\n",
       "      <td>-2461.294304</td>\n",
       "      <td>307.383345</td>\n",
       "    </tr>\n",
       "    <tr>\n",
       "      <th>10</th>\n",
       "      <td>-14139.761684</td>\n",
       "      <td>195.612637</td>\n",
       "      <td>27371.2204</td>\n",
       "      <td>15318.225782</td>\n",
       "      <td>0</td>\n",
       "      <td>13683.900246</td>\n",
       "      <td>5852.023892</td>\n",
       "      <td>9528.613127</td>\n",
       "      <td>-2478.483344</td>\n",
       "      <td>307.383345</td>\n",
       "    </tr>\n",
       "    <tr>\n",
       "      <th>11</th>\n",
       "      <td>-16645.340765</td>\n",
       "      <td>195.612637</td>\n",
       "      <td>27151.37834</td>\n",
       "      <td>15354.487102</td>\n",
       "      <td>0</td>\n",
       "      <td>13704.847101</td>\n",
       "      <td>5941.615279</td>\n",
       "      <td>9540.756041</td>\n",
       "      <td>-2495.792427</td>\n",
       "      <td>307.383345</td>\n",
       "    </tr>\n",
       "    <tr>\n",
       "      <th>12</th>\n",
       "      <td>-19150.919846</td>\n",
       "      <td>195.612637</td>\n",
       "      <td>26931.536281</td>\n",
       "      <td>15390.748422</td>\n",
       "      <td>0</td>\n",
       "      <td>13725.793956</td>\n",
       "      <td>6032.578263</td>\n",
       "      <td>9552.91443</td>\n",
       "      <td>-2513.222393</td>\n",
       "      <td>307.383345</td>\n",
       "    </tr>\n",
       "  </tbody>\n",
       "</table>\n",
       "</div>"
      ],
      "text/plain": [
       "             ETH         DAI         stETH          rETH Enzyme Idle  \\\n",
       "0   10916.029123  195.612637  29569.640992  14955.612587           0   \n",
       "1    8410.450042  195.612637  29349.798933  14991.873907           0   \n",
       "2    5904.870962  195.612637  29129.956874  15028.135226           0   \n",
       "3    3399.291881  195.612637  28910.114814  15064.396546           0   \n",
       "4       893.7128  195.612637  28690.272755  15100.657865           0   \n",
       "5    -1611.86628  195.612637  28470.430696  15136.919185           0   \n",
       "6   -4117.445361  195.612637  28250.588637  15173.180504           0   \n",
       "7   -6623.024442  195.612637  28030.746577  15209.441824           0   \n",
       "8   -9128.603523  195.612637  27810.904518  15245.703143           0   \n",
       "9  -11634.182603  195.612637  27591.062459  15281.964463           0   \n",
       "10 -14139.761684  195.612637    27371.2204  15318.225782           0   \n",
       "11 -16645.340765  195.612637   27151.37834  15354.487102           0   \n",
       "12 -19150.919846  195.612637  26931.536281  15390.748422           0   \n",
       "\n",
       "            Kiln Cover Re Investment Cover Re Loan Collateral  \\\n",
       "0   13474.431694         5027.148552              9408.030757   \n",
       "1   13495.378549         5104.111535              9420.020006   \n",
       "2   13516.325404          5182.25278              9432.024533   \n",
       "3   13537.272259         5261.590326              9444.044359   \n",
       "4   13558.219115         5342.142488              9456.079502   \n",
       "5    13579.16597         5423.927861              9468.129983   \n",
       "6   13600.112825         5506.965324               9480.19582   \n",
       "7    13621.05968         5591.274047              9492.277033   \n",
       "8   13642.006536         5676.873492              9504.373642   \n",
       "9   13662.953391          5763.78342              9516.485667   \n",
       "10  13683.900246         5852.023892              9528.613127   \n",
       "11  13704.847101         5941.615279              9540.756041   \n",
       "12  13725.793956         6032.578263               9552.91443   \n",
       "\n",
       "   Cover Re Loan Outstanding        USDC  \n",
       "0               -2311.859436  307.383345  \n",
       "1               -2328.004861  307.383345  \n",
       "2               -2344.263042  307.383345  \n",
       "3               -2360.634766  307.383345  \n",
       "4               -2377.120825  307.383345  \n",
       "5               -2393.722019  307.383345  \n",
       "6               -2410.439152  307.383345  \n",
       "7               -2427.273032  307.383345  \n",
       "8               -2444.224476  307.383345  \n",
       "9               -2461.294304  307.383345  \n",
       "10              -2478.483344  307.383345  \n",
       "11              -2495.792427  307.383345  \n",
       "12              -2513.222393  307.383345  "
      ]
     },
     "execution_count": 110,
     "metadata": {},
     "output_type": "execute_result"
    }
   ],
   "source": [
    "proj_asset_list = ['ETH', 'DAI', 'stETH', 'rETH', 'Enzyme Idle', 'Kiln', 'Cover Re Investment', 'Cover Re Loan Collateral',\n",
    "                   'Cover Re Loan Outstanding', 'USDC']\n",
    "today_row_proj = today_row[proj_asset_list]\n",
    "\n",
    "asset_df = pd.DataFrame(today_row_proj).T\n",
    "\n",
    "projection_months = 12\n",
    "aave_eth_supply_apy = 0.0154\n",
    "aave_usdc_borrow_apy = 0.0871\n",
    "cover_re_apy = 0.2\n",
    "\n",
    "for i in range(projection_months):\n",
    "    \n",
    "    next_row = {}\n",
    "    next_row['ETH'] = asset_df['ETH'].values[-1] + avg_monthly_ramm_flows + avg_monthly_net_eth_fees\n",
    "    next_row['DAI'] = asset_df['DAI'].values[-1]\n",
    "    next_row['USDC'] = asset_df['USDC'].values[-1]\n",
    "    next_row['stETH'] = asset_df['stETH'].values[-1] + avg_monthly_stETH_returns\n",
    "    next_row['rETH'] = asset_df['rETH'].values[-1] + avg_monthly_rETH_returns\n",
    "    next_row['Kiln'] = asset_df['Kiln'].values[-1] + avg_monthly_kiln_returns\n",
    "    next_row['Enzyme Idle'] = asset_df['Enzyme Idle'].values[-1]\n",
    "    next_row['Cover Re Investment'] = asset_df['Cover Re Investment'].values[-1] * ((1 + cover_re_apy)**(1/12))\n",
    "    next_row['Cover Re Loan Collateral'] = asset_df['Cover Re Loan Collateral'].values[-1] * ((1 + aave_eth_supply_apy)**(1/12))\n",
    "    next_row['Cover Re Loan Outstanding'] = asset_df['Cover Re Loan Outstanding'].values[-1] * ((1 + aave_usdc_borrow_apy)**(1/12))\n",
    "    \n",
    "    asset_df.loc[len(asset_df)] = next_row\n",
    "\n",
    "asset_df"
   ]
  },
  {
   "cell_type": "code",
   "execution_count": 111,
   "id": "65c5775e",
   "metadata": {
    "ExecuteTime": {
     "end_time": "2024-08-28T08:59:54.967546Z",
     "start_time": "2024-08-28T08:59:54.957322Z"
    },
    "hidden": true
   },
   "outputs": [],
   "source": [
    "asset_df_6_mo = asset_df[:6].astype(float)\n",
    "asset_df_6_mo_pos = asset_df_6_mo.drop(columns=['Cover Re Loan Outstanding'])"
   ]
  },
  {
   "cell_type": "code",
   "execution_count": 112,
   "id": "e1250a04",
   "metadata": {
    "ExecuteTime": {
     "end_time": "2024-08-28T08:59:55.395310Z",
     "start_time": "2024-08-28T08:59:54.974889Z"
    },
    "hidden": true
   },
   "outputs": [
    {
     "name": "stderr",
     "output_type": "stream",
     "text": [
      "/var/folders/nr/x38pd1sn7yq6g73hb2vbfhv00000gn/T/ipykernel_10145/1641516350.py:5: UserWarning: set_ticklabels() should only be used with a fixed number of ticks, i.e. after set_ticks() or using a FixedLocator.\n",
      "  projection_plot.set_yticklabels(['{:,.0f}'.format(x) for x in tick_vals]);\n"
     ]
    },
    {
     "data": {
      "image/png": "[encoded data removed]",
      "text/plain": [
       "<Figure size 1000x700 with 1 Axes>"
      ]
     },
     "metadata": {},
     "output_type": "display_data"
    }
   ],
   "source": [
    "projection_plot = asset_df_6_mo.plot(title=f'Capital Pool Projection from {today_date_str}',\n",
    "                                    figsize=(10, 7), legend=True, ylabel='ETH', xlabel='Months in Future')\n",
    "\n",
    "tick_vals = projection_plot.get_yticks()\n",
    "projection_plot.set_yticklabels(['{:,.0f}'.format(x) for x in tick_vals]);"
   ]
  },
  {
   "cell_type": "code",
   "execution_count": 113,
   "id": "8f64e944",
   "metadata": {
    "ExecuteTime": {
     "end_time": "2024-08-28T08:59:55.824804Z",
     "start_time": "2024-08-28T08:59:55.399155Z"
    },
    "hidden": true
   },
   "outputs": [
    {
     "name": "stderr",
     "output_type": "stream",
     "text": [
      "/var/folders/nr/x38pd1sn7yq6g73hb2vbfhv00000gn/T/ipykernel_10145/1806150064.py:5: UserWarning: set_ticklabels() should only be used with a fixed number of ticks, i.e. after set_ticks() or using a FixedLocator.\n",
      "  projection_bar_plot.set_yticklabels(['{:,.0f}'.format(x) for x in tick_vals]);\n"
     ]
    },
    {
     "data": {
      "image/png": "[encoded data removed]",
      "text/plain": [
       "<Figure size 1000x700 with 1 Axes>"
      ]
     },
     "metadata": {},
     "output_type": "display_data"
    }
   ],
   "source": [
    "projection_bar_plot = asset_df_6_mo_pos.plot(kind='bar', stacked=True, title=f'Capital Pool Projection from {today_date_str}',\n",
    "                                    figsize=(10, 7), legend=True, ylabel='ETH', xlabel='Months in Future')\n",
    "\n",
    "tick_vals = projection_bar_plot.get_yticks()\n",
    "projection_bar_plot.set_yticklabels(['{:,.0f}'.format(x) for x in tick_vals]);"
   ]
  },
  {
   "cell_type": "code",
   "execution_count": 114,
   "id": "c68d1a95",
   "metadata": {
    "ExecuteTime": {
     "end_time": "2024-08-28T08:59:55.847793Z",
     "start_time": "2024-08-28T08:59:55.829930Z"
    },
    "hidden": true
   },
   "outputs": [
    {
     "data": {
      "text/html": [
       "<div>\n",
       "<style scoped>\n",
       "    .dataframe tbody tr th:only-of-type {\n",
       "        vertical-align: middle;\n",
       "    }\n",
       "\n",
       "    .dataframe tbody tr th {\n",
       "        vertical-align: top;\n",
       "    }\n",
       "\n",
       "    .dataframe thead th {\n",
       "        text-align: right;\n",
       "    }\n",
       "</style>\n",
       "<table border=\"1\" class=\"dataframe\">\n",
       "  <thead>\n",
       "    <tr style=\"text-align: right;\">\n",
       "      <th></th>\n",
       "      <th>ETH</th>\n",
       "      <th>DAI</th>\n",
       "      <th>stETH</th>\n",
       "      <th>rETH</th>\n",
       "      <th>Enzyme Idle</th>\n",
       "      <th>Kiln</th>\n",
       "      <th>Cover Re Investment</th>\n",
       "      <th>Cover Re Loan Collateral</th>\n",
       "      <th>USDC</th>\n",
       "    </tr>\n",
       "  </thead>\n",
       "  <tbody>\n",
       "    <tr>\n",
       "      <th>0</th>\n",
       "      <td>13.017916</td>\n",
       "      <td>0.233278</td>\n",
       "      <td>35.263291</td>\n",
       "      <td>17.835324</td>\n",
       "      <td>0.0</td>\n",
       "      <td>16.068941</td>\n",
       "      <td>5.995129</td>\n",
       "      <td>11.219552</td>\n",
       "      <td>0.366570</td>\n",
       "    </tr>\n",
       "    <tr>\n",
       "      <th>1</th>\n",
       "      <td>10.348186</td>\n",
       "      <td>0.240681</td>\n",
       "      <td>36.111883</td>\n",
       "      <td>18.445946</td>\n",
       "      <td>0.0</td>\n",
       "      <td>16.604663</td>\n",
       "      <td>6.280080</td>\n",
       "      <td>11.590357</td>\n",
       "      <td>0.378203</td>\n",
       "    </tr>\n",
       "    <tr>\n",
       "      <th>2</th>\n",
       "      <td>7.503340</td>\n",
       "      <td>0.248566</td>\n",
       "      <td>37.015539</td>\n",
       "      <td>19.096305</td>\n",
       "      <td>0.0</td>\n",
       "      <td>17.175243</td>\n",
       "      <td>6.585107</td>\n",
       "      <td>11.985307</td>\n",
       "      <td>0.390593</td>\n",
       "    </tr>\n",
       "    <tr>\n",
       "      <th>3</th>\n",
       "      <td>4.465719</td>\n",
       "      <td>0.256980</td>\n",
       "      <td>37.979803</td>\n",
       "      <td>19.790403</td>\n",
       "      <td>0.0</td>\n",
       "      <td>17.784189</td>\n",
       "      <td>6.912258</td>\n",
       "      <td>12.406832</td>\n",
       "      <td>0.403816</td>\n",
       "    </tr>\n",
       "    <tr>\n",
       "      <th>4</th>\n",
       "      <td>1.215207</td>\n",
       "      <td>0.265980</td>\n",
       "      <td>39.010988</td>\n",
       "      <td>20.532799</td>\n",
       "      <td>0.0</td>\n",
       "      <td>18.435500</td>\n",
       "      <td>7.263865</td>\n",
       "      <td>12.857703</td>\n",
       "      <td>0.417958</td>\n",
       "    </tr>\n",
       "    <tr>\n",
       "      <th>5</th>\n",
       "      <td>-2.271203</td>\n",
       "      <td>0.275628</td>\n",
       "      <td>40.116316</td>\n",
       "      <td>21.328706</td>\n",
       "      <td>0.0</td>\n",
       "      <td>19.133750</td>\n",
       "      <td>7.642596</td>\n",
       "      <td>13.341087</td>\n",
       "      <td>0.433119</td>\n",
       "    </tr>\n",
       "  </tbody>\n",
       "</table>\n",
       "</div>"
      ],
      "text/plain": [
       "         ETH       DAI      stETH       rETH  Enzyme Idle       Kiln  \\\n",
       "0  13.017916  0.233278  35.263291  17.835324          0.0  16.068941   \n",
       "1  10.348186  0.240681  36.111883  18.445946          0.0  16.604663   \n",
       "2   7.503340  0.248566  37.015539  19.096305          0.0  17.175243   \n",
       "3   4.465719  0.256980  37.979803  19.790403          0.0  17.784189   \n",
       "4   1.215207  0.265980  39.010988  20.532799          0.0  18.435500   \n",
       "5  -2.271203  0.275628  40.116316  21.328706          0.0  19.133750   \n",
       "\n",
       "   Cover Re Investment  Cover Re Loan Collateral      USDC  \n",
       "0             5.995129                 11.219552  0.366570  \n",
       "1             6.280080                 11.590357  0.378203  \n",
       "2             6.585107                 11.985307  0.390593  \n",
       "3             6.912258                 12.406832  0.403816  \n",
       "4             7.263865                 12.857703  0.417958  \n",
       "5             7.642596                 13.341087  0.433119  "
      ]
     },
     "execution_count": 114,
     "metadata": {},
     "output_type": "execute_result"
    }
   ],
   "source": [
    "df_sum = asset_df_6_mo_pos.sum(axis=1)\n",
    "df_rel = asset_df_6_mo_pos.div(df_sum, 0)*100\n",
    "df_rel"
   ]
  },
  {
   "cell_type": "code",
   "execution_count": 115,
   "id": "e1e64856",
   "metadata": {
    "ExecuteTime": {
     "end_time": "2024-08-28T08:59:55.927215Z",
     "start_time": "2024-08-28T08:59:55.852668Z"
    },
    "hidden": true
   },
   "outputs": [
    {
     "name": "stdout",
     "output_type": "stream",
     "text": [
      "5458.014561553847 0 13.0%\n",
      "4205.225021194595 1 10.3%\n",
      "2952.4354808353432 2 7.5%\n",
      "1699.6459404760915 3 4.5%\n",
      "446.8564001168397 4 1.2%\n",
      "-805.933140242412 5 -2.3%\n",
      "11013.835441683723 0 0.2%\n",
      "8508.256360965219 1 0.2%\n",
      "6002.677280246718 2 0.2%\n",
      "3497.0981995282136 3 0.3%\n",
      "991.5191188097101 4 0.3%\n",
      "-1514.0599619087934 5 0.3%\n",
      "25896.462256369705 0 35.3%\n",
      "23280.962146022466 1 36.1%\n",
      "20665.46203567522 2 37.0%\n",
      "18049.96192532798 3 38.0%\n",
      "15434.461814980741 4 39.0%\n",
      "12818.961704633499 5 40.1%\n",
      "48159.0890460729 0 17.8%\n",
      "45451.79856586174 1 18.4%\n",
      "42744.50808565058 2 19.1%\n",
      "40037.21760543942 3 19.8%\n",
      "37329.92712522826 4 20.5%\n",
      "34622.636645017104 5 21.3%\n",
      "55636.89533966614 0 0.0%\n",
      "52947.7355192198 1 0.0%\n",
      "50258.575698773464 2 0.0%\n",
      "47569.41587832713 3 0.0%\n",
      "44880.25605788079 4 0.0%\n",
      "42191.09623743445 5 0.0%\n",
      "62374.111186588896 0 16.1%\n",
      "59695.42479374991 1 16.6%\n",
      "57016.738400910916 2 17.2%\n",
      "54338.05200807192 3 17.8%\n",
      "51659.36561523293 4 18.4%\n",
      "48980.679222393934 5 19.1%\n",
      "71624.90130972459 0 6.0%\n",
      "68995.16983572351 1 6.3%\n",
      "66366.0274929772 2 6.6%\n",
      "63737.483300773245 3 6.9%\n",
      "61109.546416479716 4 7.3%\n",
      "58482.22613765915 5 7.6%\n",
      "78842.4909643354 0 11.2%\n",
      "76257.2356059969 1 11.6%\n",
      "73673.16614949718 2 12.0%\n",
      "71090.3006431466 3 12.4%\n",
      "68508.65741142909 4 12.9%\n",
      "65928.25505922978 5 13.3%\n",
      "83700.19801500392 0 0.4%\n",
      "81120.93728109743 1 0.4%\n",
      "78542.87008835892 2 0.4%\n",
      "75966.01449483406 3 0.4%\n",
      "73390.38883475443 4 0.4%\n",
      "70816.0117227653 5 0.4%\n"
     ]
    }
   ],
   "source": [
    "for n in df_rel: \n",
    "    for i, (cs, ab, pc) in enumerate(zip(asset_df_6_mo_pos.cumsum(1)[n],  \n",
    "                                         asset_df_6_mo_pos[n], df_rel[n])): \n",
    "        print(cs - ab / 2, i, str(np.round(pc, 1)) + '%')"
   ]
  },
  {
   "cell_type": "code",
   "execution_count": 116,
   "id": "eb084695",
   "metadata": {
    "ExecuteTime": {
     "end_time": "2024-08-28T08:59:56.677819Z",
     "start_time": "2024-08-28T08:59:55.934233Z"
    },
    "hidden": true
   },
   "outputs": [
    {
     "name": "stderr",
     "output_type": "stream",
     "text": [
      "/var/folders/nr/x38pd1sn7yq6g73hb2vbfhv00000gn/T/ipykernel_10145/4137318079.py:5: UserWarning: set_ticklabels() should only be used with a fixed number of ticks, i.e. after set_ticks() or using a FixedLocator.\n",
      "  projection_bar_perc_plot.set_yticklabels(['{:,.0f}'.format(x) for x in tick_vals])\n"
     ]
    },
    {
     "data": {
      "image/png": "[encoded data removed]",
      "text/plain": [
       "<Figure size 1000x700 with 1 Axes>"
      ]
     },
     "metadata": {},
     "output_type": "display_data"
    }
   ],
   "source": [
    "projection_bar_perc_plot = asset_df_6_mo_pos.plot(kind='bar', stacked=True, title=f'Capital Pool Projection from {today_date_str}',\n",
    "                                    figsize=(10, 7), legend=True, ylabel='ETH', xlabel='Months in Future')\n",
    "\n",
    "tick_vals = projection_bar_perc_plot.get_yticks()\n",
    "projection_bar_perc_plot.set_yticklabels(['{:,.0f}'.format(x) for x in tick_vals])\n",
    "\n",
    "for n in df_rel: \n",
    "     for i, (cs, ab, pc) in enumerate(zip(asset_df_6_mo_pos.cumsum(1)[n],  \n",
    "                                         asset_df_6_mo_pos[n], df_rel[n])): \n",
    "         projection_bar_perc_plot.text(y= cs - ab / 2, x=i, s=str(np.round(pc, 1)) + '%',\n",
    "                             va = 'center', ha = 'center', size = 'small')"
   ]
  },
  {
   "cell_type": "code",
   "execution_count": null,
   "id": "8ac03af3",
   "metadata": {
    "hidden": true
   },
   "outputs": [],
   "source": []
  }
 ],
 "metadata": {
  "kernelspec": {
   "display_name": "NMInvestmentMonitoring-HqzqS9GB",
   "language": "python",
   "name": "python3"
  },
  "language_info": {
   "codemirror_mode": {
    "name": "ipython",
    "version": 3
   },
   "file_extension": ".py",
   "mimetype": "text/x-python",
   "name": "python",
   "nbconvert_exporter": "python",
   "pygments_lexer": "ipython3",
   "version": "3.12.2"
  },
  "toc": {
   "base_numbering": 1,
   "nav_menu": {},
   "number_sections": true,
   "sideBar": true,
   "skip_h1_title": false,
   "title_cell": "Table of Contents",
   "title_sidebar": "Contents",
   "toc_cell": false,
   "toc_position": {},
   "toc_section_display": true,
   "toc_window_display": false
  }
 },
 "nbformat": 4,
 "nbformat_minor": 5
}
